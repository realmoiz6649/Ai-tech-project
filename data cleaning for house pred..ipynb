{
 "cells": [
  {
   "cell_type": "code",
   "execution_count": 170,
   "id": "c7fee211",
   "metadata": {},
   "outputs": [],
   "source": [
    "import pandas as pd\n",
    "import numpy as np\n",
    "from sklearn.preprocessing import LabelEncoder\n",
    "import matplotlib\n",
    "import matplotlib.pyplot as plt\n",
    "import seaborn as sns"
   ]
  },
  {
   "cell_type": "markdown",
   "id": "70f96a7a",
   "metadata": {},
   "source": [
    "\n",
    "# IMPORTING DATA"
   ]
  },
  {
   "cell_type": "code",
   "execution_count": 171,
   "id": "64d45896",
   "metadata": {},
   "outputs": [
    {
     "data": {
      "text/html": [
       "<div>\n",
       "<style scoped>\n",
       "    .dataframe tbody tr th:only-of-type {\n",
       "        vertical-align: middle;\n",
       "    }\n",
       "\n",
       "    .dataframe tbody tr th {\n",
       "        vertical-align: top;\n",
       "    }\n",
       "\n",
       "    .dataframe thead th {\n",
       "        text-align: right;\n",
       "    }\n",
       "</style>\n",
       "<table border=\"1\" class=\"dataframe\">\n",
       "  <thead>\n",
       "    <tr style=\"text-align: right;\">\n",
       "      <th></th>\n",
       "      <th>Unnamed: 0</th>\n",
       "      <th>Address</th>\n",
       "      <th>Zip</th>\n",
       "      <th>Price</th>\n",
       "      <th>Area</th>\n",
       "      <th>Room</th>\n",
       "      <th>Lon</th>\n",
       "      <th>Lat</th>\n",
       "    </tr>\n",
       "  </thead>\n",
       "  <tbody>\n",
       "    <tr>\n",
       "      <th>0</th>\n",
       "      <td>1</td>\n",
       "      <td>Blasiusstraat 8 2, Amsterdam</td>\n",
       "      <td>1091 CR</td>\n",
       "      <td>685000.0</td>\n",
       "      <td>64</td>\n",
       "      <td>3</td>\n",
       "      <td>4.907736</td>\n",
       "      <td>52.356157</td>\n",
       "    </tr>\n",
       "    <tr>\n",
       "      <th>1</th>\n",
       "      <td>2</td>\n",
       "      <td>Kromme Leimuidenstraat 13 H, Amsterdam</td>\n",
       "      <td>1059 EL</td>\n",
       "      <td>475000.0</td>\n",
       "      <td>60</td>\n",
       "      <td>3</td>\n",
       "      <td>4.850476</td>\n",
       "      <td>52.348586</td>\n",
       "    </tr>\n",
       "    <tr>\n",
       "      <th>2</th>\n",
       "      <td>3</td>\n",
       "      <td>Zaaiersweg 11 A, Amsterdam</td>\n",
       "      <td>1097 SM</td>\n",
       "      <td>850000.0</td>\n",
       "      <td>109</td>\n",
       "      <td>4</td>\n",
       "      <td>4.944774</td>\n",
       "      <td>52.343782</td>\n",
       "    </tr>\n",
       "    <tr>\n",
       "      <th>3</th>\n",
       "      <td>4</td>\n",
       "      <td>Tenerifestraat 40, Amsterdam</td>\n",
       "      <td>1060 TH</td>\n",
       "      <td>580000.0</td>\n",
       "      <td>128</td>\n",
       "      <td>6</td>\n",
       "      <td>4.789928</td>\n",
       "      <td>52.343712</td>\n",
       "    </tr>\n",
       "    <tr>\n",
       "      <th>4</th>\n",
       "      <td>5</td>\n",
       "      <td>Winterjanpad 21, Amsterdam</td>\n",
       "      <td>1036 KN</td>\n",
       "      <td>720000.0</td>\n",
       "      <td>138</td>\n",
       "      <td>5</td>\n",
       "      <td>4.902503</td>\n",
       "      <td>52.410538</td>\n",
       "    </tr>\n",
       "    <tr>\n",
       "      <th>...</th>\n",
       "      <td>...</td>\n",
       "      <td>...</td>\n",
       "      <td>...</td>\n",
       "      <td>...</td>\n",
       "      <td>...</td>\n",
       "      <td>...</td>\n",
       "      <td>...</td>\n",
       "      <td>...</td>\n",
       "    </tr>\n",
       "    <tr>\n",
       "      <th>919</th>\n",
       "      <td>920</td>\n",
       "      <td>Ringdijk, Amsterdam</td>\n",
       "      <td>1097 AE</td>\n",
       "      <td>750000.0</td>\n",
       "      <td>117</td>\n",
       "      <td>1</td>\n",
       "      <td>4.927757</td>\n",
       "      <td>52.354173</td>\n",
       "    </tr>\n",
       "    <tr>\n",
       "      <th>920</th>\n",
       "      <td>921</td>\n",
       "      <td>Kleine Beerstraat 31, Amsterdam</td>\n",
       "      <td>1033 CP</td>\n",
       "      <td>350000.0</td>\n",
       "      <td>72</td>\n",
       "      <td>3</td>\n",
       "      <td>4.890612</td>\n",
       "      <td>52.414587</td>\n",
       "    </tr>\n",
       "    <tr>\n",
       "      <th>921</th>\n",
       "      <td>922</td>\n",
       "      <td>Stuyvesantstraat 33 II, Amsterdam</td>\n",
       "      <td>1058 AK</td>\n",
       "      <td>350000.0</td>\n",
       "      <td>51</td>\n",
       "      <td>3</td>\n",
       "      <td>4.856935</td>\n",
       "      <td>52.363256</td>\n",
       "    </tr>\n",
       "    <tr>\n",
       "      <th>922</th>\n",
       "      <td>923</td>\n",
       "      <td>John Blankensteinstraat 51, Amsterdam</td>\n",
       "      <td>1095 MB</td>\n",
       "      <td>599000.0</td>\n",
       "      <td>113</td>\n",
       "      <td>4</td>\n",
       "      <td>4.965731</td>\n",
       "      <td>52.375268</td>\n",
       "    </tr>\n",
       "    <tr>\n",
       "      <th>923</th>\n",
       "      <td>924</td>\n",
       "      <td>S. F. van Ossstraat 334, Amsterdam</td>\n",
       "      <td>1068 JS</td>\n",
       "      <td>300000.0</td>\n",
       "      <td>79</td>\n",
       "      <td>4</td>\n",
       "      <td>4.810678</td>\n",
       "      <td>52.355493</td>\n",
       "    </tr>\n",
       "  </tbody>\n",
       "</table>\n",
       "<p>924 rows × 8 columns</p>\n",
       "</div>"
      ],
      "text/plain": [
       "     Unnamed: 0                                 Address      Zip     Price  \\\n",
       "0             1            Blasiusstraat 8 2, Amsterdam  1091 CR  685000.0   \n",
       "1             2  Kromme Leimuidenstraat 13 H, Amsterdam  1059 EL  475000.0   \n",
       "2             3              Zaaiersweg 11 A, Amsterdam  1097 SM  850000.0   \n",
       "3             4            Tenerifestraat 40, Amsterdam  1060 TH  580000.0   \n",
       "4             5              Winterjanpad 21, Amsterdam  1036 KN  720000.0   \n",
       "..          ...                                     ...      ...       ...   \n",
       "919         920                     Ringdijk, Amsterdam  1097 AE  750000.0   \n",
       "920         921         Kleine Beerstraat 31, Amsterdam  1033 CP  350000.0   \n",
       "921         922       Stuyvesantstraat 33 II, Amsterdam  1058 AK  350000.0   \n",
       "922         923   John Blankensteinstraat 51, Amsterdam  1095 MB  599000.0   \n",
       "923         924      S. F. van Ossstraat 334, Amsterdam  1068 JS  300000.0   \n",
       "\n",
       "     Area  Room       Lon        Lat  \n",
       "0      64     3  4.907736  52.356157  \n",
       "1      60     3  4.850476  52.348586  \n",
       "2     109     4  4.944774  52.343782  \n",
       "3     128     6  4.789928  52.343712  \n",
       "4     138     5  4.902503  52.410538  \n",
       "..    ...   ...       ...        ...  \n",
       "919   117     1  4.927757  52.354173  \n",
       "920    72     3  4.890612  52.414587  \n",
       "921    51     3  4.856935  52.363256  \n",
       "922   113     4  4.965731  52.375268  \n",
       "923    79     4  4.810678  52.355493  \n",
       "\n",
       "[924 rows x 8 columns]"
      ]
     },
     "execution_count": 171,
     "metadata": {},
     "output_type": "execute_result"
    }
   ],
   "source": [
    "spreadsheet = pd.read_csv('HousingPrices-Amsterdam-August-2021.csv')\n",
    "spreadsheet"
   ]
  },
  {
   "cell_type": "markdown",
   "id": "c5d06cbf",
   "metadata": {},
   "source": [
    "# DATA CLEANING"
   ]
  },
  {
   "cell_type": "code",
   "execution_count": 172,
   "id": "d15c954b",
   "metadata": {},
   "outputs": [
    {
     "data": {
      "text/plain": [
       "Unnamed: 0    0\n",
       "Address       0\n",
       "Zip           0\n",
       "Price         4\n",
       "Area          0\n",
       "Room          0\n",
       "Lon           0\n",
       "Lat           0\n",
       "dtype: int64"
      ]
     },
     "execution_count": 172,
     "metadata": {},
     "output_type": "execute_result"
    }
   ],
   "source": [
    "spreadsheet.isnull().sum()"
   ]
  },
  {
   "cell_type": "code",
   "execution_count": 173,
   "id": "3901b834",
   "metadata": {},
   "outputs": [],
   "source": [
    "spreadsheet=spreadsheet.dropna()\n",
    "spreadsheet=spreadsheet.reset_index(drop=True)"
   ]
  },
  {
   "cell_type": "code",
   "execution_count": 174,
   "id": "5180e62b",
   "metadata": {},
   "outputs": [
    {
     "data": {
      "text/plain": [
       "(920, 8)"
      ]
     },
     "execution_count": 174,
     "metadata": {},
     "output_type": "execute_result"
    }
   ],
   "source": [
    "spreadsheet.shape"
   ]
  },
  {
   "cell_type": "code",
   "execution_count": 175,
   "id": "1fc2e2ef",
   "metadata": {},
   "outputs": [],
   "source": [
    "spreadsheet['Address'] = spreadsheet['Address'].apply(lambda x:x.split(',')[0])"
   ]
  },
  {
   "cell_type": "code",
   "execution_count": 176,
   "id": "c576b324",
   "metadata": {},
   "outputs": [],
   "source": [
    "def word_separator(string):\n",
    "    list = string.split()\n",
    "    word = []\n",
    "    number = [] \n",
    "    for element in list:\n",
    "        if element.isalpha() == True: \n",
    "            word.append(element)\n",
    "        else:\n",
    "            break\n",
    "    word = ' '.join(word)\n",
    "    return word\n",
    "\n"
   ]
  },
  {
   "cell_type": "code",
   "execution_count": 177,
   "id": "df9015be",
   "metadata": {},
   "outputs": [],
   "source": [
    "spreadsheet['Address'] = spreadsheet['Address'].apply(lambda x:word_separator(x))\n"
   ]
  },
  {
   "cell_type": "code",
   "execution_count": 178,
   "id": "67a4c0f5",
   "metadata": {},
   "outputs": [
    {
     "data": {
      "text/plain": [
       "605"
      ]
     },
     "execution_count": 178,
     "metadata": {},
     "output_type": "execute_result"
    }
   ],
   "source": [
    "spreadsheet['Address'].nunique()"
   ]
  },
  {
   "cell_type": "code",
   "execution_count": 179,
   "id": "2dbb5b93",
   "metadata": {},
   "outputs": [],
   "source": [
    "spreadsheet=spreadsheet.drop(['Unnamed: 0'],axis=1)"
   ]
  },
  {
   "cell_type": "code",
   "execution_count": 180,
   "id": "90ddbc55",
   "metadata": {},
   "outputs": [
    {
     "data": {
      "text/plain": [
       "0"
      ]
     },
     "execution_count": 180,
     "metadata": {},
     "output_type": "execute_result"
    }
   ],
   "source": [
    "spreadsheet.isnull().sum().sum()"
   ]
  },
  {
   "cell_type": "code",
   "execution_count": 181,
   "id": "0e0f6261",
   "metadata": {},
   "outputs": [
    {
     "data": {
      "text/html": [
       "<div>\n",
       "<style scoped>\n",
       "    .dataframe tbody tr th:only-of-type {\n",
       "        vertical-align: middle;\n",
       "    }\n",
       "\n",
       "    .dataframe tbody tr th {\n",
       "        vertical-align: top;\n",
       "    }\n",
       "\n",
       "    .dataframe thead th {\n",
       "        text-align: right;\n",
       "    }\n",
       "</style>\n",
       "<table border=\"1\" class=\"dataframe\">\n",
       "  <thead>\n",
       "    <tr style=\"text-align: right;\">\n",
       "      <th></th>\n",
       "      <th>Address</th>\n",
       "      <th>Zip</th>\n",
       "    </tr>\n",
       "  </thead>\n",
       "  <tbody>\n",
       "    <tr>\n",
       "      <th>0</th>\n",
       "      <td>61</td>\n",
       "      <td>690</td>\n",
       "    </tr>\n",
       "    <tr>\n",
       "      <th>1</th>\n",
       "      <td>285</td>\n",
       "      <td>418</td>\n",
       "    </tr>\n",
       "    <tr>\n",
       "      <th>2</th>\n",
       "      <td>598</td>\n",
       "      <td>748</td>\n",
       "    </tr>\n",
       "    <tr>\n",
       "      <th>3</th>\n",
       "      <td>487</td>\n",
       "      <td>433</td>\n",
       "    </tr>\n",
       "    <tr>\n",
       "      <th>4</th>\n",
       "      <td>592</td>\n",
       "      <td>254</td>\n",
       "    </tr>\n",
       "    <tr>\n",
       "      <th>...</th>\n",
       "      <td>...</td>\n",
       "      <td>...</td>\n",
       "    </tr>\n",
       "    <tr>\n",
       "      <th>915</th>\n",
       "      <td>435</td>\n",
       "      <td>744</td>\n",
       "    </tr>\n",
       "    <tr>\n",
       "      <th>916</th>\n",
       "      <td>275</td>\n",
       "      <td>218</td>\n",
       "    </tr>\n",
       "    <tr>\n",
       "      <th>917</th>\n",
       "      <td>481</td>\n",
       "      <td>393</td>\n",
       "    </tr>\n",
       "    <tr>\n",
       "      <th>918</th>\n",
       "      <td>250</td>\n",
       "      <td>735</td>\n",
       "    </tr>\n",
       "    <tr>\n",
       "      <th>919</th>\n",
       "      <td>0</td>\n",
       "      <td>527</td>\n",
       "    </tr>\n",
       "  </tbody>\n",
       "</table>\n",
       "<p>920 rows × 2 columns</p>\n",
       "</div>"
      ],
      "text/plain": [
       "     Address  Zip\n",
       "0         61  690\n",
       "1        285  418\n",
       "2        598  748\n",
       "3        487  433\n",
       "4        592  254\n",
       "..       ...  ...\n",
       "915      435  744\n",
       "916      275  218\n",
       "917      481  393\n",
       "918      250  735\n",
       "919        0  527\n",
       "\n",
       "[920 rows x 2 columns]"
      ]
     },
     "execution_count": 181,
     "metadata": {},
     "output_type": "execute_result"
    }
   ],
   "source": [
    "df1= pd.DataFrame()\n",
    "lb_make = LabelEncoder()\n",
    "df1[\"Address\"] = lb_make.fit_transform(spreadsheet[\"Address\"])\n",
    "df1[\"Zip\"] = lb_make.fit_transform(spreadsheet[\"Zip\"])\n",
    "df1"
   ]
  },
  {
   "cell_type": "code",
   "execution_count": 182,
   "id": "c80d9549",
   "metadata": {},
   "outputs": [
    {
     "data": {
      "text/html": [
       "<div>\n",
       "<style scoped>\n",
       "    .dataframe tbody tr th:only-of-type {\n",
       "        vertical-align: middle;\n",
       "    }\n",
       "\n",
       "    .dataframe tbody tr th {\n",
       "        vertical-align: top;\n",
       "    }\n",
       "\n",
       "    .dataframe thead th {\n",
       "        text-align: right;\n",
       "    }\n",
       "</style>\n",
       "<table border=\"1\" class=\"dataframe\">\n",
       "  <thead>\n",
       "    <tr style=\"text-align: right;\">\n",
       "      <th></th>\n",
       "      <th>Address</th>\n",
       "      <th>Zip</th>\n",
       "      <th>Price</th>\n",
       "      <th>Area</th>\n",
       "      <th>Room</th>\n",
       "      <th>Lon</th>\n",
       "      <th>Lat</th>\n",
       "    </tr>\n",
       "  </thead>\n",
       "  <tbody>\n",
       "    <tr>\n",
       "      <th>0</th>\n",
       "      <td>61</td>\n",
       "      <td>690</td>\n",
       "      <td>685000.0</td>\n",
       "      <td>64</td>\n",
       "      <td>3</td>\n",
       "      <td>4.907736</td>\n",
       "      <td>52.356157</td>\n",
       "    </tr>\n",
       "    <tr>\n",
       "      <th>1</th>\n",
       "      <td>285</td>\n",
       "      <td>418</td>\n",
       "      <td>475000.0</td>\n",
       "      <td>60</td>\n",
       "      <td>3</td>\n",
       "      <td>4.850476</td>\n",
       "      <td>52.348586</td>\n",
       "    </tr>\n",
       "    <tr>\n",
       "      <th>2</th>\n",
       "      <td>598</td>\n",
       "      <td>748</td>\n",
       "      <td>850000.0</td>\n",
       "      <td>109</td>\n",
       "      <td>4</td>\n",
       "      <td>4.944774</td>\n",
       "      <td>52.343782</td>\n",
       "    </tr>\n",
       "    <tr>\n",
       "      <th>3</th>\n",
       "      <td>487</td>\n",
       "      <td>433</td>\n",
       "      <td>580000.0</td>\n",
       "      <td>128</td>\n",
       "      <td>6</td>\n",
       "      <td>4.789928</td>\n",
       "      <td>52.343712</td>\n",
       "    </tr>\n",
       "    <tr>\n",
       "      <th>4</th>\n",
       "      <td>592</td>\n",
       "      <td>254</td>\n",
       "      <td>720000.0</td>\n",
       "      <td>138</td>\n",
       "      <td>5</td>\n",
       "      <td>4.902503</td>\n",
       "      <td>52.410538</td>\n",
       "    </tr>\n",
       "    <tr>\n",
       "      <th>...</th>\n",
       "      <td>...</td>\n",
       "      <td>...</td>\n",
       "      <td>...</td>\n",
       "      <td>...</td>\n",
       "      <td>...</td>\n",
       "      <td>...</td>\n",
       "      <td>...</td>\n",
       "    </tr>\n",
       "    <tr>\n",
       "      <th>915</th>\n",
       "      <td>435</td>\n",
       "      <td>744</td>\n",
       "      <td>750000.0</td>\n",
       "      <td>117</td>\n",
       "      <td>1</td>\n",
       "      <td>4.927757</td>\n",
       "      <td>52.354173</td>\n",
       "    </tr>\n",
       "    <tr>\n",
       "      <th>916</th>\n",
       "      <td>275</td>\n",
       "      <td>218</td>\n",
       "      <td>350000.0</td>\n",
       "      <td>72</td>\n",
       "      <td>3</td>\n",
       "      <td>4.890612</td>\n",
       "      <td>52.414587</td>\n",
       "    </tr>\n",
       "    <tr>\n",
       "      <th>917</th>\n",
       "      <td>481</td>\n",
       "      <td>393</td>\n",
       "      <td>350000.0</td>\n",
       "      <td>51</td>\n",
       "      <td>3</td>\n",
       "      <td>4.856935</td>\n",
       "      <td>52.363256</td>\n",
       "    </tr>\n",
       "    <tr>\n",
       "      <th>918</th>\n",
       "      <td>250</td>\n",
       "      <td>735</td>\n",
       "      <td>599000.0</td>\n",
       "      <td>113</td>\n",
       "      <td>4</td>\n",
       "      <td>4.965731</td>\n",
       "      <td>52.375268</td>\n",
       "    </tr>\n",
       "    <tr>\n",
       "      <th>919</th>\n",
       "      <td>0</td>\n",
       "      <td>527</td>\n",
       "      <td>300000.0</td>\n",
       "      <td>79</td>\n",
       "      <td>4</td>\n",
       "      <td>4.810678</td>\n",
       "      <td>52.355493</td>\n",
       "    </tr>\n",
       "  </tbody>\n",
       "</table>\n",
       "<p>920 rows × 7 columns</p>\n",
       "</div>"
      ],
      "text/plain": [
       "     Address  Zip     Price  Area  Room       Lon        Lat\n",
       "0         61  690  685000.0    64     3  4.907736  52.356157\n",
       "1        285  418  475000.0    60     3  4.850476  52.348586\n",
       "2        598  748  850000.0   109     4  4.944774  52.343782\n",
       "3        487  433  580000.0   128     6  4.789928  52.343712\n",
       "4        592  254  720000.0   138     5  4.902503  52.410538\n",
       "..       ...  ...       ...   ...   ...       ...        ...\n",
       "915      435  744  750000.0   117     1  4.927757  52.354173\n",
       "916      275  218  350000.0    72     3  4.890612  52.414587\n",
       "917      481  393  350000.0    51     3  4.856935  52.363256\n",
       "918      250  735  599000.0   113     4  4.965731  52.375268\n",
       "919        0  527  300000.0    79     4  4.810678  52.355493\n",
       "\n",
       "[920 rows x 7 columns]"
      ]
     },
     "execution_count": 182,
     "metadata": {},
     "output_type": "execute_result"
    }
   ],
   "source": [
    "spreadsheet['Address']=df1['Address']\n",
    "spreadsheet['Zip']=df1['Zip']\n",
    "spreadsheet"
   ]
  },
  {
   "cell_type": "markdown",
   "id": "17dfc605",
   "metadata": {},
   "source": [
    "same type"
   ]
  },
  {
   "cell_type": "code",
   "execution_count": null,
   "id": "6cb34eb5",
   "metadata": {},
   "outputs": [],
   "source": []
  },
  {
   "cell_type": "code",
   "execution_count": 183,
   "id": "02e5bca0",
   "metadata": {},
   "outputs": [],
   "source": [
    "#spreadsheet.columns!= 'Address' "
   ]
  },
  {
   "cell_type": "code",
   "execution_count": 184,
   "id": "b4dcc751",
   "metadata": {},
   "outputs": [
    {
     "data": {
      "text/html": [
       "<div>\n",
       "<style scoped>\n",
       "    .dataframe tbody tr th:only-of-type {\n",
       "        vertical-align: middle;\n",
       "    }\n",
       "\n",
       "    .dataframe tbody tr th {\n",
       "        vertical-align: top;\n",
       "    }\n",
       "\n",
       "    .dataframe thead th {\n",
       "        text-align: right;\n",
       "    }\n",
       "</style>\n",
       "<table border=\"1\" class=\"dataframe\">\n",
       "  <thead>\n",
       "    <tr style=\"text-align: right;\">\n",
       "      <th></th>\n",
       "      <th>Address</th>\n",
       "      <th>Zip</th>\n",
       "      <th>Price</th>\n",
       "      <th>Area</th>\n",
       "      <th>Room</th>\n",
       "      <th>Lon</th>\n",
       "      <th>Lat</th>\n",
       "    </tr>\n",
       "  </thead>\n",
       "  <tbody>\n",
       "    <tr>\n",
       "      <th>0</th>\n",
       "      <td>61</td>\n",
       "      <td>690</td>\n",
       "      <td>685000.0</td>\n",
       "      <td>64</td>\n",
       "      <td>3</td>\n",
       "      <td>4.907736</td>\n",
       "      <td>52.356157</td>\n",
       "    </tr>\n",
       "    <tr>\n",
       "      <th>1</th>\n",
       "      <td>285</td>\n",
       "      <td>418</td>\n",
       "      <td>475000.0</td>\n",
       "      <td>60</td>\n",
       "      <td>3</td>\n",
       "      <td>4.850476</td>\n",
       "      <td>52.348586</td>\n",
       "    </tr>\n",
       "    <tr>\n",
       "      <th>2</th>\n",
       "      <td>598</td>\n",
       "      <td>748</td>\n",
       "      <td>850000.0</td>\n",
       "      <td>109</td>\n",
       "      <td>4</td>\n",
       "      <td>4.944774</td>\n",
       "      <td>52.343782</td>\n",
       "    </tr>\n",
       "    <tr>\n",
       "      <th>3</th>\n",
       "      <td>487</td>\n",
       "      <td>433</td>\n",
       "      <td>580000.0</td>\n",
       "      <td>128</td>\n",
       "      <td>6</td>\n",
       "      <td>4.789928</td>\n",
       "      <td>52.343712</td>\n",
       "    </tr>\n",
       "    <tr>\n",
       "      <th>4</th>\n",
       "      <td>592</td>\n",
       "      <td>254</td>\n",
       "      <td>720000.0</td>\n",
       "      <td>138</td>\n",
       "      <td>5</td>\n",
       "      <td>4.902503</td>\n",
       "      <td>52.410538</td>\n",
       "    </tr>\n",
       "    <tr>\n",
       "      <th>...</th>\n",
       "      <td>...</td>\n",
       "      <td>...</td>\n",
       "      <td>...</td>\n",
       "      <td>...</td>\n",
       "      <td>...</td>\n",
       "      <td>...</td>\n",
       "      <td>...</td>\n",
       "    </tr>\n",
       "    <tr>\n",
       "      <th>915</th>\n",
       "      <td>435</td>\n",
       "      <td>744</td>\n",
       "      <td>750000.0</td>\n",
       "      <td>117</td>\n",
       "      <td>1</td>\n",
       "      <td>4.927757</td>\n",
       "      <td>52.354173</td>\n",
       "    </tr>\n",
       "    <tr>\n",
       "      <th>916</th>\n",
       "      <td>275</td>\n",
       "      <td>218</td>\n",
       "      <td>350000.0</td>\n",
       "      <td>72</td>\n",
       "      <td>3</td>\n",
       "      <td>4.890612</td>\n",
       "      <td>52.414587</td>\n",
       "    </tr>\n",
       "    <tr>\n",
       "      <th>917</th>\n",
       "      <td>481</td>\n",
       "      <td>393</td>\n",
       "      <td>350000.0</td>\n",
       "      <td>51</td>\n",
       "      <td>3</td>\n",
       "      <td>4.856935</td>\n",
       "      <td>52.363256</td>\n",
       "    </tr>\n",
       "    <tr>\n",
       "      <th>918</th>\n",
       "      <td>250</td>\n",
       "      <td>735</td>\n",
       "      <td>599000.0</td>\n",
       "      <td>113</td>\n",
       "      <td>4</td>\n",
       "      <td>4.965731</td>\n",
       "      <td>52.375268</td>\n",
       "    </tr>\n",
       "    <tr>\n",
       "      <th>919</th>\n",
       "      <td>0</td>\n",
       "      <td>527</td>\n",
       "      <td>300000.0</td>\n",
       "      <td>79</td>\n",
       "      <td>4</td>\n",
       "      <td>4.810678</td>\n",
       "      <td>52.355493</td>\n",
       "    </tr>\n",
       "  </tbody>\n",
       "</table>\n",
       "<p>920 rows × 7 columns</p>\n",
       "</div>"
      ],
      "text/plain": [
       "     Address  Zip     Price  Area  Room       Lon        Lat\n",
       "0         61  690  685000.0    64     3  4.907736  52.356157\n",
       "1        285  418  475000.0    60     3  4.850476  52.348586\n",
       "2        598  748  850000.0   109     4  4.944774  52.343782\n",
       "3        487  433  580000.0   128     6  4.789928  52.343712\n",
       "4        592  254  720000.0   138     5  4.902503  52.410538\n",
       "..       ...  ...       ...   ...   ...       ...        ...\n",
       "915      435  744  750000.0   117     1  4.927757  52.354173\n",
       "916      275  218  350000.0    72     3  4.890612  52.414587\n",
       "917      481  393  350000.0    51     3  4.856935  52.363256\n",
       "918      250  735  599000.0   113     4  4.965731  52.375268\n",
       "919        0  527  300000.0    79     4  4.810678  52.355493\n",
       "\n",
       "[920 rows x 7 columns]"
      ]
     },
     "execution_count": 184,
     "metadata": {},
     "output_type": "execute_result"
    }
   ],
   "source": [
    "spreadsheet"
   ]
  },
  {
   "cell_type": "code",
   "execution_count": null,
   "id": "cb0e5e60",
   "metadata": {},
   "outputs": [],
   "source": []
  },
  {
   "cell_type": "code",
   "execution_count": null,
   "id": "cbcbea9c",
   "metadata": {},
   "outputs": [],
   "source": []
  },
  {
   "cell_type": "markdown",
   "id": "d8991178",
   "metadata": {},
   "source": [
    "# EDA"
   ]
  },
  {
   "cell_type": "code",
   "execution_count": 185,
   "id": "c64acd1d",
   "metadata": {},
   "outputs": [
    {
     "name": "stderr",
     "output_type": "stream",
     "text": [
      "/home/young-shounen/anaconda3/lib/python3.8/site-packages/seaborn/distributions.py:2557: FutureWarning: `distplot` is a deprecated function and will be removed in a future version. Please adapt your code to use either `displot` (a figure-level function with similar flexibility) or `histplot` (an axes-level function for histograms).\n",
      "  warnings.warn(msg, FutureWarning)\n"
     ]
    },
    {
     "data": {
      "text/plain": [
       "<function matplotlib.pyplot.show(close=None, block=None)>"
      ]
     },
     "execution_count": 185,
     "metadata": {},
     "output_type": "execute_result"
    },
    {
     "data": {
      "image/png": "[encoded data removed]",
      "text/plain": [
       "<Figure size 576x576 with 1 Axes>"
      ]
     },
     "metadata": {
      "needs_background": "light"
     },
     "output_type": "display_data"
    }
   ],
   "source": [
    "plt.figure(figsize=(8,8))\n",
    "sns.distplot(spreadsheet['Price'])\n",
    "plt.show"
   ]
  },
  {
   "cell_type": "code",
   "execution_count": 186,
   "id": "2863ed61",
   "metadata": {},
   "outputs": [
    {
     "data": {
      "text/plain": [
       "<AxesSubplot:>"
      ]
     },
     "execution_count": 186,
     "metadata": {},
     "output_type": "execute_result"
    },
    {
     "data": {
      "image/png": "[encoded data removed]",
      "text/plain": [
       "<Figure size 864x864 with 2 Axes>"
      ]
     },
     "metadata": {
      "needs_background": "light"
     },
     "output_type": "display_data"
    }
   ],
   "source": [
    "plt.figure(figsize=(12,12))\n",
    "sns.heatmap(spreadsheet.iloc[:, 1:].corr(), annot = True)"
   ]
  },
  {
   "cell_type": "markdown",
   "id": "cc416239",
   "metadata": {},
   "source": [
    "as we can see the dependece of Zip has geatest negative value so we can drop it. "
   ]
  },
  {
   "cell_type": "code",
   "execution_count": 187,
   "id": "b9ba9334",
   "metadata": {},
   "outputs": [],
   "source": [
    "spreadsheet=spreadsheet.drop(['Zip'],axis=1)"
   ]
  },
  {
   "cell_type": "code",
   "execution_count": null,
   "id": "7403f6e9",
   "metadata": {},
   "outputs": [],
   "source": []
  },
  {
   "cell_type": "code",
   "execution_count": 188,
   "id": "de40883b",
   "metadata": {},
   "outputs": [
    {
     "name": "stderr",
     "output_type": "stream",
     "text": [
      "/home/young-shounen/anaconda3/lib/python3.8/site-packages/seaborn/distributions.py:2557: FutureWarning: `distplot` is a deprecated function and will be removed in a future version. Please adapt your code to use either `displot` (a figure-level function with similar flexibility) or `histplot` (an axes-level function for histograms).\n",
      "  warnings.warn(msg, FutureWarning)\n",
      "/home/young-shounen/anaconda3/lib/python3.8/site-packages/seaborn/distributions.py:2557: FutureWarning: `distplot` is a deprecated function and will be removed in a future version. Please adapt your code to use either `displot` (a figure-level function with similar flexibility) or `histplot` (an axes-level function for histograms).\n",
      "  warnings.warn(msg, FutureWarning)\n",
      "/home/young-shounen/anaconda3/lib/python3.8/site-packages/seaborn/distributions.py:2557: FutureWarning: `distplot` is a deprecated function and will be removed in a future version. Please adapt your code to use either `displot` (a figure-level function with similar flexibility) or `histplot` (an axes-level function for histograms).\n",
      "  warnings.warn(msg, FutureWarning)\n",
      "/home/young-shounen/anaconda3/lib/python3.8/site-packages/seaborn/distributions.py:2557: FutureWarning: `distplot` is a deprecated function and will be removed in a future version. Please adapt your code to use either `displot` (a figure-level function with similar flexibility) or `histplot` (an axes-level function for histograms).\n",
      "  warnings.warn(msg, FutureWarning)\n"
     ]
    },
    {
     "data": {
      "image/png": "[encoded data removed]",
      "text/plain": [
       "<Figure size 1440x720 with 4 Axes>"
      ]
     },
     "metadata": {
      "needs_background": "light"
     },
     "output_type": "display_data"
    }
   ],
   "source": [
    "fig = plt.figure(figsize=(20, 10))\n",
    "ax1 = fig.add_subplot(2, 2, 1)\n",
    "ax2 = fig.add_subplot(2, 2, 2)\n",
    "ax3 = fig.add_subplot(2, 2, 3)\n",
    "ax4 = fig.add_subplot(2, 2, 4)\n",
    "\n",
    "\n",
    "\n",
    "sns.distplot(spreadsheet['Area'], ax=ax1)\n",
    "ax1.set_title('Distribution of Area')\n",
    "sns.distplot(spreadsheet['Lon'], ax=ax2)\n",
    "ax2.set_title('Distribution of Lon')\n",
    "sns.distplot(spreadsheet['Room'], ax=ax3)\n",
    "ax3.set_title('Distribution of Room')\n",
    "sns.distplot(spreadsheet['Lat'], ax=ax4)\n",
    "ax1.set_title('Distribution of Lat')\n",
    "\n",
    "plt.suptitle('Distribution of features', fontweight='bold')\n",
    "\n",
    "plt.tight_layout\n",
    "plt.show()"
   ]
  },
  {
   "cell_type": "code",
   "execution_count": null,
   "id": "36eced3a",
   "metadata": {},
   "outputs": [],
   "source": []
  },
  {
   "cell_type": "code",
   "execution_count": 189,
   "id": "603e2656",
   "metadata": {},
   "outputs": [],
   "source": [
    "#spreadsheet=pd.get_dummies(spreadsheet)"
   ]
  },
  {
   "cell_type": "code",
   "execution_count": 190,
   "id": "531a5e80",
   "metadata": {},
   "outputs": [],
   "source": [
    "#spreadsheet=spreadsheet.astype('float32') "
   ]
  },
  {
   "cell_type": "code",
   "execution_count": null,
   "id": "c9b6f535",
   "metadata": {},
   "outputs": [],
   "source": []
  },
  {
   "cell_type": "code",
   "execution_count": null,
   "id": "7a39321b",
   "metadata": {},
   "outputs": [],
   "source": []
  },
  {
   "cell_type": "markdown",
   "id": "f9f1c634",
   "metadata": {},
   "source": [
    "# Split & Normalize"
   ]
  },
  {
   "cell_type": "code",
   "execution_count": 191,
   "id": "717d8ddb",
   "metadata": {},
   "outputs": [],
   "source": [
    "label= spreadsheet['Price']\n",
    "data=spreadsheet.drop(['Price'],axis=1)"
   ]
  },
  {
   "cell_type": "code",
   "execution_count": 192,
   "id": "326e5195",
   "metadata": {},
   "outputs": [],
   "source": [
    "train_data= data[:690]\n",
    "train_label=label[:690]"
   ]
  },
  {
   "cell_type": "code",
   "execution_count": 193,
   "id": "5e576b68",
   "metadata": {},
   "outputs": [],
   "source": [
    "test_data=data[690:]\n",
    "test_label=label[690:]\n"
   ]
  },
  {
   "cell_type": "code",
   "execution_count": 194,
   "id": "882563f1",
   "metadata": {},
   "outputs": [],
   "source": [
    "train_label=np.array(train_label)\n",
    "test_label=np.array(test_label)"
   ]
  },
  {
   "cell_type": "code",
   "execution_count": 195,
   "id": "f1b7d9de",
   "metadata": {},
   "outputs": [
    {
     "data": {
      "text/plain": [
       "array([ 685000.,  475000.,  850000.,  580000.,  720000.,  450000.,\n",
       "        450000.,  590000.,  399000.,  300000.,  540000.,  539000.,\n",
       "        390000.,  575000.,  650000.,  475000.,  700000.,  325000.,\n",
       "        399000.,  375000., 1625000.,  575000.,  600000.,  525000.,\n",
       "        350000.,  350000.,  575000.,  375000., 1650000.,  325000.,\n",
       "        800000., 1950000.,  735000., 3925000.,  475000.,  275000.,\n",
       "        375000.,  570000.,  375000.,  895000.,  365000.,  550000.,\n",
       "        325000.,  429000.,  650000.,  350000.,  475000.,  325000.,\n",
       "        425000.,  350000.,  350000.,  375000.,  450000., 1185000.,\n",
       "        385000.,  687500.,  585000., 1295000.,  375000.,  500000.,\n",
       "        300000.,  375000.,  400000.,  850000.,  550000.,  275000.,\n",
       "        330000.,  700000.,  500000.,  369000.,  245000.,  350000.,\n",
       "        425000.,  375000.,  335000.,  450000.,  395000.,  300000.,\n",
       "        450000.,  415000.,  650000.,  425000.,  469000.,  485000.,\n",
       "        225000.,  285000.,  995000., 1475000.,  475000.,  475000.,\n",
       "        395000.,  375000.,  400000.,  325000.,  400000.,  475000.,\n",
       "        425000.,  375000.,  365000.,  500000.,  450000.,  725000.,\n",
       "       4550000.,  225000.,  375000.,  495000.,  475000.,  450000.,\n",
       "        475000.,  475000.,  345000.,  369000.,  320000.,  465000.,\n",
       "        340000.,  375000.,  595000.,  525000.,  245000.,  275000.,\n",
       "        575000.,  250000.,  975000.,  375000., 1100000.,  750000.,\n",
       "        439000.,  375000.,  445000.,  325000.,  415000.,  300000.,\n",
       "        915000.,  685000.,  350000., 1025000.,  895000.,  350000.,\n",
       "        265000.,  500000.,  295000., 1175000.,  995000.,  385000.,\n",
       "        550000.,  325000.,  225000.,  395000.,  425000.,  525000.,\n",
       "        800000.,  400000.,  250000.,  360000., 1050000.,  799000.,\n",
       "       1700000.,  825000.,  290000.,  469000.,  625000., 1050000.,\n",
       "        540000.,  285000.,  859000.,  275000.,  525000.,  375000.,\n",
       "        399500.,  430000., 1300000., 1750000.,  950000., 1450000.,\n",
       "        285000.,  300000., 1500000.,  685000., 4495000.,  989000.,\n",
       "        765000.,  900000.,  665000., 2475000.,  475000.,  300000.,\n",
       "        350000.,  450000.,  600000.,  350000.,  595000.,  335000.,\n",
       "       1295000.,  825000., 5950000.,  325000.,  450000., 1450000.,\n",
       "        585000., 1200000., 1550000., 1250000.,  998000.,  395000.,\n",
       "        935000., 1050000.,  729000.,  699000., 1500000.,  400000.,\n",
       "        550000.,  950000.,  975000.,  295000.,  350000.,  685000.,\n",
       "       1499000., 1275000.,  375000., 1595000.,  439000.,  785000.,\n",
       "        395000.,  595000.,  875000.,  295000.,  520000.,  439000.,\n",
       "        410000.,  275000., 2450000.,  350000., 1795000.,  835000.,\n",
       "        985000.,  425000.,  635000.,  999500., 1050000.,  225000.,\n",
       "       1099000.,  895000.,  899000.,  799000.,  719000.,  750000.,\n",
       "        285000.,  285000.,  900000.,  475000.,  545000.,  685000.,\n",
       "       2200000.,  650000., 1100011., 1200000., 1495000.,  295000.,\n",
       "       1000000., 1150000., 2250000., 1350000., 1650000., 2750000.,\n",
       "       1050000.,  469000.,  669000.,  300000.,  425000.,  749000.,\n",
       "        700000.,  389000.,  900000., 1750000.,  275000., 3500000.,\n",
       "        400000.,  850000., 1700000., 2325000., 1495000.,  549000.,\n",
       "       1375000., 1250000.,  500000.,  575000., 2475000., 1425000.,\n",
       "       1695000.,  515000., 1095000., 2500000.,  519900.,  700000.,\n",
       "       2650000., 1149000.,  280000.,  600000.,  950000.,  849000.,\n",
       "       3680000.,  850000.,  750750., 1400000., 4900000.,  899000.,\n",
       "        895000., 1695000., 1085000.,  300000.,  649000.,  785000.,\n",
       "        565000., 1395000.,  795000., 1200000.,  995000.,  775000.,\n",
       "        825000., 1249000.,  380000.,  450000.,  399000.,  650000.,\n",
       "        485000., 1599000.,  950000.,  629000.,  359000.,  419000.,\n",
       "        250000.,  320000., 3500000.,  415000.,  750000.,  420000.,\n",
       "        525000.,  550000.,  450000.,  425000.,  699000.,  675000.,\n",
       "       1150000., 1250000., 1450000.,  240000.,  345000.,  425000.,\n",
       "        250000.,  485000., 1200000.,  325000.,  275000.,  365000.,\n",
       "        300000.,  485000.,  725000.,  325000.,  225000.,  690000.,\n",
       "        250000.,  825000.,  239000.,  400000.,  430000.,  485000.,\n",
       "        300000.,  550000.,  325000.,  250000.,  675000.,  295000.,\n",
       "        350000.,  375000.,  360000.,  325000.,  250000.,  550000.,\n",
       "        325000.,  235000.,  450000.,  245000., 1400000.,  650000.,\n",
       "        465000.,  735000.,  675000.,  425000.,  635000.,  300000.,\n",
       "        375000.,  300000.,  910000.,  385000.,  775000.,  349500.,\n",
       "        375000.,  325000.,  295000.,  345000.,  325000.,  245000.,\n",
       "        650000.,  450000.,  525000.,  315000.,  500000.,  285000.,\n",
       "        600000.,  425000.,  225000.,  440000.,  450000.,  425000.,\n",
       "        230000.,  395000.,  550000.,  350000.,  335000.,  300000.,\n",
       "        270000.,  675000.,  450000.,  450000.,  549000.,  265000.,\n",
       "        395000.,  275000.,  400000.,  450000.,  395000.,  335000.,\n",
       "        425000.,  325000.,  590000.,  345000.,  398011.,  900000.,\n",
       "        400000.,  825000.,  415000.,  685000.,  610000.,  295000.,\n",
       "        339000.,  310000.,  395000.,  335000.,  275000.,  425000.,\n",
       "        225000.,  500000.,  600000.,  300000.,  350000.,  475000.,\n",
       "        510000.,  225000.,  545000.,  550000.,  225000.,  320000.,\n",
       "        360000.,  475000.,  425000.,  395000.,  265000.,  230000.,\n",
       "        750000., 1000000.,  825000.,  425000.,  369000.,  300000.,\n",
       "        389000.,  300000.,  800000.,  600000.,  300000.,  415000.,\n",
       "        325000.,  775000.,  750000.,  650000.,  600000.,  325000.,\n",
       "        385000.,  875000.,  500000.,  900000.,  350000.,  350000.,\n",
       "        450000.,  325000.,  200000.,  575000.,  325000.,  400000.,\n",
       "        365000.,  350000.,  300000.,  375000.,  415000.,  300000.,\n",
       "        625000.,  315000.,  325000.,  370000.,  298000.,  375000.,\n",
       "        325000.,  325000.,  375000.,  295000.,  375000.,  295000.,\n",
       "        275000.,  345000.,  500000.,  390000.,  400000.,  250000.,\n",
       "        625000.,  550000.,  585000.,  425000.,  300000.,  300000.,\n",
       "        275000.,  525000.,  725000.,  350000.,  275000.,  450000.,\n",
       "        325000.,  425000.,  300000.,  330000.,  215000.,  695000.,\n",
       "        750000.,  400000.,  585000.,  395000.,  250000.,  725000.,\n",
       "        275000.,  700000.,  260000.,  275000.,  535000.,  465000.,\n",
       "        490000.,  375000.,  425000.,  265000.,  425000.,  525000.,\n",
       "        625000.,  380000.,  950000.,  350000.,  325000.,  550000.,\n",
       "        300000.,  245000.,  230000.,  395000.,  365000.,  698000.,\n",
       "        495000.,  375000.,  375000., 1200000.,  425000.,  730000.,\n",
       "        325000.,  275000.,  535000.,  375000.,  775000.,  375000.,\n",
       "        400000.,  300000.,  375000.,  295000.,  345000.,  260000.,\n",
       "        225000.,  425000.,  475000.,  425000., 1170000.,  520000.,\n",
       "        350000.,  289500.,  480000.,  325000.,  250000.,  350000.,\n",
       "        600000.,  350000.,  525000.,  500000.,  700000.,  300000.,\n",
       "        175000.,  365000.,  375000.,  425000., 1320000.,  469000.,\n",
       "        270000.,  325000.,  650000.,  550000., 1150000.,  385000.,\n",
       "        325000.,  750000.,  465000.,  300000.,  250000.,  500000.,\n",
       "        875000.,  399000.,  925000.,  875000.,  930000.,  725000.,\n",
       "        575000.,  600000.,  600000.,  265000.,  350000.,  340000.,\n",
       "        350000.,  430000.,  975000.,  500000.,  850000.,  645000.,\n",
       "        425000., 1090000.,  895000.,  465000.,  700000.,  325000.,\n",
       "        695000.,  825000.,  280000.,  550000.,  325000.,  325000.,\n",
       "        275000.,  340000.,  550000.,  500000.,  750000.,  499000.,\n",
       "       1750000., 1250000.,  319000., 1100000.,  325000.,  475000.,\n",
       "        300000.,  265000.,  399500.,  725000.,  625000.,  399000.,\n",
       "        445000.,  550000.,  675000.,  325000.,  600000.,  375000.,\n",
       "        575000.,  475000.,  500000.,  275000., 1775000.,  525000.,\n",
       "        400000.,  375000.,  550000.,  525000.,  760000.,  700000.])"
      ]
     },
     "execution_count": 195,
     "metadata": {},
     "output_type": "execute_result"
    }
   ],
   "source": [
    "train_label"
   ]
  },
  {
   "cell_type": "code",
   "execution_count": 196,
   "id": "5805a4a2",
   "metadata": {},
   "outputs": [
    {
     "data": {
      "text/html": [
       "<div>\n",
       "<style scoped>\n",
       "    .dataframe tbody tr th:only-of-type {\n",
       "        vertical-align: middle;\n",
       "    }\n",
       "\n",
       "    .dataframe tbody tr th {\n",
       "        vertical-align: top;\n",
       "    }\n",
       "\n",
       "    .dataframe thead th {\n",
       "        text-align: right;\n",
       "    }\n",
       "</style>\n",
       "<table border=\"1\" class=\"dataframe\">\n",
       "  <thead>\n",
       "    <tr style=\"text-align: right;\">\n",
       "      <th></th>\n",
       "      <th>Address</th>\n",
       "      <th>Area</th>\n",
       "      <th>Room</th>\n",
       "      <th>Lon</th>\n",
       "      <th>Lat</th>\n",
       "    </tr>\n",
       "  </thead>\n",
       "  <tbody>\n",
       "    <tr>\n",
       "      <th>0</th>\n",
       "      <td>61</td>\n",
       "      <td>64</td>\n",
       "      <td>3</td>\n",
       "      <td>4.907736</td>\n",
       "      <td>52.356157</td>\n",
       "    </tr>\n",
       "    <tr>\n",
       "      <th>1</th>\n",
       "      <td>285</td>\n",
       "      <td>60</td>\n",
       "      <td>3</td>\n",
       "      <td>4.850476</td>\n",
       "      <td>52.348586</td>\n",
       "    </tr>\n",
       "    <tr>\n",
       "      <th>2</th>\n",
       "      <td>598</td>\n",
       "      <td>109</td>\n",
       "      <td>4</td>\n",
       "      <td>4.944774</td>\n",
       "      <td>52.343782</td>\n",
       "    </tr>\n",
       "    <tr>\n",
       "      <th>3</th>\n",
       "      <td>487</td>\n",
       "      <td>128</td>\n",
       "      <td>6</td>\n",
       "      <td>4.789928</td>\n",
       "      <td>52.343712</td>\n",
       "    </tr>\n",
       "    <tr>\n",
       "      <th>4</th>\n",
       "      <td>592</td>\n",
       "      <td>138</td>\n",
       "      <td>5</td>\n",
       "      <td>4.902503</td>\n",
       "      <td>52.410538</td>\n",
       "    </tr>\n",
       "    <tr>\n",
       "      <th>...</th>\n",
       "      <td>...</td>\n",
       "      <td>...</td>\n",
       "      <td>...</td>\n",
       "      <td>...</td>\n",
       "      <td>...</td>\n",
       "    </tr>\n",
       "    <tr>\n",
       "      <th>685</th>\n",
       "      <td>214</td>\n",
       "      <td>80</td>\n",
       "      <td>4</td>\n",
       "      <td>4.882011</td>\n",
       "      <td>52.330956</td>\n",
       "    </tr>\n",
       "    <tr>\n",
       "      <th>686</th>\n",
       "      <td>43</td>\n",
       "      <td>87</td>\n",
       "      <td>2</td>\n",
       "      <td>4.942751</td>\n",
       "      <td>52.373127</td>\n",
       "    </tr>\n",
       "    <tr>\n",
       "      <th>687</th>\n",
       "      <td>426</td>\n",
       "      <td>76</td>\n",
       "      <td>2</td>\n",
       "      <td>4.922699</td>\n",
       "      <td>52.355605</td>\n",
       "    </tr>\n",
       "    <tr>\n",
       "      <th>688</th>\n",
       "      <td>310</td>\n",
       "      <td>90</td>\n",
       "      <td>4</td>\n",
       "      <td>4.886718</td>\n",
       "      <td>52.380687</td>\n",
       "    </tr>\n",
       "    <tr>\n",
       "      <th>689</th>\n",
       "      <td>297</td>\n",
       "      <td>123</td>\n",
       "      <td>6</td>\n",
       "      <td>4.915060</td>\n",
       "      <td>52.393449</td>\n",
       "    </tr>\n",
       "  </tbody>\n",
       "</table>\n",
       "<p>690 rows × 5 columns</p>\n",
       "</div>"
      ],
      "text/plain": [
       "     Address  Area  Room       Lon        Lat\n",
       "0         61    64     3  4.907736  52.356157\n",
       "1        285    60     3  4.850476  52.348586\n",
       "2        598   109     4  4.944774  52.343782\n",
       "3        487   128     6  4.789928  52.343712\n",
       "4        592   138     5  4.902503  52.410538\n",
       "..       ...   ...   ...       ...        ...\n",
       "685      214    80     4  4.882011  52.330956\n",
       "686       43    87     2  4.942751  52.373127\n",
       "687      426    76     2  4.922699  52.355605\n",
       "688      310    90     4  4.886718  52.380687\n",
       "689      297   123     6  4.915060  52.393449\n",
       "\n",
       "[690 rows x 5 columns]"
      ]
     },
     "execution_count": 196,
     "metadata": {},
     "output_type": "execute_result"
    }
   ],
   "source": [
    "train_data"
   ]
  },
  {
   "cell_type": "markdown",
   "id": "598ce999",
   "metadata": {},
   "source": [
    "normalize"
   ]
  },
  {
   "cell_type": "code",
   "execution_count": null,
   "id": "a64c8fa1",
   "metadata": {},
   "outputs": [],
   "source": []
  },
  {
   "cell_type": "code",
   "execution_count": 197,
   "id": "ae83e3d8",
   "metadata": {},
   "outputs": [],
   "source": [
    "#.iloc[:,1:]"
   ]
  },
  {
   "cell_type": "code",
   "execution_count": 198,
   "id": "10ff822f",
   "metadata": {},
   "outputs": [],
   "source": [
    "mean = train_data.mean(axis=0)\n",
    "train_data -= mean\n",
    "std = train_data.std(axis=0)\n",
    "train_data /= std\n",
    "test_data -= mean\n",
    "test_data /= std"
   ]
  },
  {
   "cell_type": "code",
   "execution_count": 199,
   "id": "04299eff",
   "metadata": {},
   "outputs": [
    {
     "data": {
      "text/html": [
       "<div>\n",
       "<style scoped>\n",
       "    .dataframe tbody tr th:only-of-type {\n",
       "        vertical-align: middle;\n",
       "    }\n",
       "\n",
       "    .dataframe tbody tr th {\n",
       "        vertical-align: top;\n",
       "    }\n",
       "\n",
       "    .dataframe thead th {\n",
       "        text-align: right;\n",
       "    }\n",
       "</style>\n",
       "<table border=\"1\" class=\"dataframe\">\n",
       "  <thead>\n",
       "    <tr style=\"text-align: right;\">\n",
       "      <th></th>\n",
       "      <th>Address</th>\n",
       "      <th>Area</th>\n",
       "      <th>Room</th>\n",
       "      <th>Lon</th>\n",
       "      <th>Lat</th>\n",
       "    </tr>\n",
       "  </thead>\n",
       "  <tbody>\n",
       "    <tr>\n",
       "      <th>690</th>\n",
       "      <td>-0.966573</td>\n",
       "      <td>-0.357683</td>\n",
       "      <td>-0.348176</td>\n",
       "      <td>-0.268905</td>\n",
       "      <td>0.088063</td>\n",
       "    </tr>\n",
       "    <tr>\n",
       "      <th>691</th>\n",
       "      <td>-0.726821</td>\n",
       "      <td>0.012309</td>\n",
       "      <td>0.277453</td>\n",
       "      <td>1.232323</td>\n",
       "      <td>-1.833256</td>\n",
       "    </tr>\n",
       "    <tr>\n",
       "      <th>692</th>\n",
       "      <td>-1.150569</td>\n",
       "      <td>-0.357683</td>\n",
       "      <td>-0.348176</td>\n",
       "      <td>0.979220</td>\n",
       "      <td>-0.229896</td>\n",
       "    </tr>\n",
       "    <tr>\n",
       "      <th>693</th>\n",
       "      <td>-0.146954</td>\n",
       "      <td>-0.845400</td>\n",
       "      <td>-0.973805</td>\n",
       "      <td>-0.520407</td>\n",
       "      <td>0.084783</td>\n",
       "    </tr>\n",
       "    <tr>\n",
       "      <th>694</th>\n",
       "      <td>1.693006</td>\n",
       "      <td>-0.895854</td>\n",
       "      <td>-0.973805</td>\n",
       "      <td>0.842334</td>\n",
       "      <td>0.122037</td>\n",
       "    </tr>\n",
       "    <tr>\n",
       "      <th>...</th>\n",
       "      <td>...</td>\n",
       "      <td>...</td>\n",
       "      <td>...</td>\n",
       "      <td>...</td>\n",
       "      <td>...</td>\n",
       "    </tr>\n",
       "    <tr>\n",
       "      <th>915</th>\n",
       "      <td>0.773026</td>\n",
       "      <td>0.348665</td>\n",
       "      <td>-1.599434</td>\n",
       "      <td>0.711835</td>\n",
       "      <td>-0.355266</td>\n",
       "    </tr>\n",
       "    <tr>\n",
       "      <th>916</th>\n",
       "      <td>-0.119076</td>\n",
       "      <td>-0.408137</td>\n",
       "      <td>-0.348176</td>\n",
       "      <td>0.003570</td>\n",
       "      <td>2.091139</td>\n",
       "    </tr>\n",
       "    <tr>\n",
       "      <th>917</th>\n",
       "      <td>1.029505</td>\n",
       "      <td>-0.761311</td>\n",
       "      <td>-0.348176</td>\n",
       "      <td>-0.638568</td>\n",
       "      <td>0.012541</td>\n",
       "    </tr>\n",
       "    <tr>\n",
       "      <th>918</th>\n",
       "      <td>-0.258467</td>\n",
       "      <td>0.281394</td>\n",
       "      <td>0.277453</td>\n",
       "      <td>1.435907</td>\n",
       "      <td>0.498955</td>\n",
       "    </tr>\n",
       "    <tr>\n",
       "      <th>919</th>\n",
       "      <td>-1.652376</td>\n",
       "      <td>-0.290412</td>\n",
       "      <td>0.277453</td>\n",
       "      <td>-1.520577</td>\n",
       "      <td>-0.301814</td>\n",
       "    </tr>\n",
       "  </tbody>\n",
       "</table>\n",
       "<p>230 rows × 5 columns</p>\n",
       "</div>"
      ],
      "text/plain": [
       "      Address      Area      Room       Lon       Lat\n",
       "690 -0.966573 -0.357683 -0.348176 -0.268905  0.088063\n",
       "691 -0.726821  0.012309  0.277453  1.232323 -1.833256\n",
       "692 -1.150569 -0.357683 -0.348176  0.979220 -0.229896\n",
       "693 -0.146954 -0.845400 -0.973805 -0.520407  0.084783\n",
       "694  1.693006 -0.895854 -0.973805  0.842334  0.122037\n",
       "..        ...       ...       ...       ...       ...\n",
       "915  0.773026  0.348665 -1.599434  0.711835 -0.355266\n",
       "916 -0.119076 -0.408137 -0.348176  0.003570  2.091139\n",
       "917  1.029505 -0.761311 -0.348176 -0.638568  0.012541\n",
       "918 -0.258467  0.281394  0.277453  1.435907  0.498955\n",
       "919 -1.652376 -0.290412  0.277453 -1.520577 -0.301814\n",
       "\n",
       "[230 rows x 5 columns]"
      ]
     },
     "execution_count": 199,
     "metadata": {},
     "output_type": "execute_result"
    }
   ],
   "source": [
    "test_data"
   ]
  },
  {
   "cell_type": "code",
   "execution_count": 200,
   "id": "d16f2381",
   "metadata": {},
   "outputs": [],
   "source": [
    "#train_data=pd.get_dummies(train_data)"
   ]
  },
  {
   "cell_type": "code",
   "execution_count": 201,
   "id": "6dee7d9a",
   "metadata": {},
   "outputs": [],
   "source": [
    "#test_data=pd.get_dummies(test_data)"
   ]
  },
  {
   "cell_type": "code",
   "execution_count": 202,
   "id": "c67bb4c5",
   "metadata": {},
   "outputs": [
    {
     "data": {
      "text/html": [
       "<div>\n",
       "<style scoped>\n",
       "    .dataframe tbody tr th:only-of-type {\n",
       "        vertical-align: middle;\n",
       "    }\n",
       "\n",
       "    .dataframe tbody tr th {\n",
       "        vertical-align: top;\n",
       "    }\n",
       "\n",
       "    .dataframe thead th {\n",
       "        text-align: right;\n",
       "    }\n",
       "</style>\n",
       "<table border=\"1\" class=\"dataframe\">\n",
       "  <thead>\n",
       "    <tr style=\"text-align: right;\">\n",
       "      <th></th>\n",
       "      <th>Address</th>\n",
       "      <th>Area</th>\n",
       "      <th>Room</th>\n",
       "      <th>Lon</th>\n",
       "      <th>Lat</th>\n",
       "    </tr>\n",
       "  </thead>\n",
       "  <tbody>\n",
       "    <tr>\n",
       "      <th>690</th>\n",
       "      <td>-0.966573</td>\n",
       "      <td>-0.357683</td>\n",
       "      <td>-0.348176</td>\n",
       "      <td>-0.268905</td>\n",
       "      <td>0.088063</td>\n",
       "    </tr>\n",
       "    <tr>\n",
       "      <th>691</th>\n",
       "      <td>-0.726821</td>\n",
       "      <td>0.012309</td>\n",
       "      <td>0.277453</td>\n",
       "      <td>1.232323</td>\n",
       "      <td>-1.833256</td>\n",
       "    </tr>\n",
       "    <tr>\n",
       "      <th>692</th>\n",
       "      <td>-1.150569</td>\n",
       "      <td>-0.357683</td>\n",
       "      <td>-0.348176</td>\n",
       "      <td>0.979220</td>\n",
       "      <td>-0.229896</td>\n",
       "    </tr>\n",
       "    <tr>\n",
       "      <th>693</th>\n",
       "      <td>-0.146954</td>\n",
       "      <td>-0.845400</td>\n",
       "      <td>-0.973805</td>\n",
       "      <td>-0.520407</td>\n",
       "      <td>0.084783</td>\n",
       "    </tr>\n",
       "    <tr>\n",
       "      <th>694</th>\n",
       "      <td>1.693006</td>\n",
       "      <td>-0.895854</td>\n",
       "      <td>-0.973805</td>\n",
       "      <td>0.842334</td>\n",
       "      <td>0.122037</td>\n",
       "    </tr>\n",
       "    <tr>\n",
       "      <th>...</th>\n",
       "      <td>...</td>\n",
       "      <td>...</td>\n",
       "      <td>...</td>\n",
       "      <td>...</td>\n",
       "      <td>...</td>\n",
       "    </tr>\n",
       "    <tr>\n",
       "      <th>915</th>\n",
       "      <td>0.773026</td>\n",
       "      <td>0.348665</td>\n",
       "      <td>-1.599434</td>\n",
       "      <td>0.711835</td>\n",
       "      <td>-0.355266</td>\n",
       "    </tr>\n",
       "    <tr>\n",
       "      <th>916</th>\n",
       "      <td>-0.119076</td>\n",
       "      <td>-0.408137</td>\n",
       "      <td>-0.348176</td>\n",
       "      <td>0.003570</td>\n",
       "      <td>2.091139</td>\n",
       "    </tr>\n",
       "    <tr>\n",
       "      <th>917</th>\n",
       "      <td>1.029505</td>\n",
       "      <td>-0.761311</td>\n",
       "      <td>-0.348176</td>\n",
       "      <td>-0.638568</td>\n",
       "      <td>0.012541</td>\n",
       "    </tr>\n",
       "    <tr>\n",
       "      <th>918</th>\n",
       "      <td>-0.258467</td>\n",
       "      <td>0.281394</td>\n",
       "      <td>0.277453</td>\n",
       "      <td>1.435907</td>\n",
       "      <td>0.498955</td>\n",
       "    </tr>\n",
       "    <tr>\n",
       "      <th>919</th>\n",
       "      <td>-1.652376</td>\n",
       "      <td>-0.290412</td>\n",
       "      <td>0.277453</td>\n",
       "      <td>-1.520577</td>\n",
       "      <td>-0.301814</td>\n",
       "    </tr>\n",
       "  </tbody>\n",
       "</table>\n",
       "<p>230 rows × 5 columns</p>\n",
       "</div>"
      ],
      "text/plain": [
       "      Address      Area      Room       Lon       Lat\n",
       "690 -0.966573 -0.357683 -0.348176 -0.268905  0.088063\n",
       "691 -0.726821  0.012309  0.277453  1.232323 -1.833256\n",
       "692 -1.150569 -0.357683 -0.348176  0.979220 -0.229896\n",
       "693 -0.146954 -0.845400 -0.973805 -0.520407  0.084783\n",
       "694  1.693006 -0.895854 -0.973805  0.842334  0.122037\n",
       "..        ...       ...       ...       ...       ...\n",
       "915  0.773026  0.348665 -1.599434  0.711835 -0.355266\n",
       "916 -0.119076 -0.408137 -0.348176  0.003570  2.091139\n",
       "917  1.029505 -0.761311 -0.348176 -0.638568  0.012541\n",
       "918 -0.258467  0.281394  0.277453  1.435907  0.498955\n",
       "919 -1.652376 -0.290412  0.277453 -1.520577 -0.301814\n",
       "\n",
       "[230 rows x 5 columns]"
      ]
     },
     "execution_count": 202,
     "metadata": {},
     "output_type": "execute_result"
    }
   ],
   "source": [
    "test_data"
   ]
  },
  {
   "cell_type": "code",
   "execution_count": 203,
   "id": "119d0b29",
   "metadata": {},
   "outputs": [],
   "source": [
    "train_data=train_data.values\n",
    "test_data=test_data.values\n"
   ]
  },
  {
   "cell_type": "markdown",
   "id": "eb779d58",
   "metadata": {},
   "source": [
    "divide the price with 100,000 for easy calculaion. "
   ]
  },
  {
   "cell_type": "code",
   "execution_count": 204,
   "id": "dde5e69f",
   "metadata": {},
   "outputs": [],
   "source": [
    "test_label=test_label/100000\n",
    "train_label=train_label/100000"
   ]
  },
  {
   "cell_type": "code",
   "execution_count": 205,
   "id": "871146d8",
   "metadata": {},
   "outputs": [
    {
     "data": {
      "text/plain": [
       "6.75"
      ]
     },
     "execution_count": 205,
     "metadata": {},
     "output_type": "execute_result"
    }
   ],
   "source": [
    "test_label[0]"
   ]
  },
  {
   "cell_type": "code",
   "execution_count": 206,
   "id": "4aec911b",
   "metadata": {},
   "outputs": [
    {
     "data": {
      "text/plain": [
       "(5,)"
      ]
     },
     "execution_count": 206,
     "metadata": {},
     "output_type": "execute_result"
    }
   ],
   "source": [
    "test_data[2].shape"
   ]
  },
  {
   "cell_type": "markdown",
   "id": "8622fa1d",
   "metadata": {},
   "source": [
    "# Model"
   ]
  },
  {
   "cell_type": "code",
   "execution_count": 207,
   "id": "bec7ab42",
   "metadata": {},
   "outputs": [
    {
     "data": {
      "text/plain": [
       "((230, 5), (230,))"
      ]
     },
     "execution_count": 207,
     "metadata": {},
     "output_type": "execute_result"
    }
   ],
   "source": [
    "test_data.shape,test_label.shape"
   ]
  },
  {
   "cell_type": "code",
   "execution_count": 208,
   "id": "66a5c200",
   "metadata": {},
   "outputs": [
    {
     "data": {
      "text/plain": [
       "((690, 5), (690,))"
      ]
     },
     "execution_count": 208,
     "metadata": {},
     "output_type": "execute_result"
    }
   ],
   "source": [
    "train_data.shape,train_label.shape"
   ]
  },
  {
   "cell_type": "code",
   "execution_count": 209,
   "id": "59776864",
   "metadata": {},
   "outputs": [
    {
     "data": {
      "text/plain": [
       "(5,)"
      ]
     },
     "execution_count": 209,
     "metadata": {},
     "output_type": "execute_result"
    }
   ],
   "source": [
    "train_data[2].shape"
   ]
  },
  {
   "cell_type": "code",
   "execution_count": 210,
   "id": "dbbd934c",
   "metadata": {},
   "outputs": [
    {
     "data": {
      "text/plain": [
       "(5,)"
      ]
     },
     "execution_count": 210,
     "metadata": {},
     "output_type": "execute_result"
    }
   ],
   "source": [
    "train_data[2].shape"
   ]
  },
  {
   "cell_type": "code",
   "execution_count": 211,
   "id": "fdbf7543",
   "metadata": {},
   "outputs": [],
   "source": [
    "from keras import backend as K\n",
    "def pearson_r(y_true, y_pred):\n",
    "    x = y_true\n",
    "    y = y_pred\n",
    "    mx = K.mean(x, axis=0)\n",
    "    my = K.mean(y, axis=0)\n",
    "    xm, ym = x - mx, y - my\n",
    "    r_num = K.sum(xm * ym)\n",
    "    x_square_sum = K.sum(xm * xm)\n",
    "    y_square_sum = K.sum(ym * ym)\n",
    "    r_den = K.sqrt(x_square_sum * y_square_sum)\n",
    "    r = r_num / r_den\n",
    "    return K.mean(r)"
   ]
  },
  {
   "cell_type": "code",
   "execution_count": null,
   "id": "dadd5ab0",
   "metadata": {},
   "outputs": [],
   "source": []
  },
  {
   "cell_type": "code",
   "execution_count": 212,
   "id": "596ffd18",
   "metadata": {},
   "outputs": [],
   "source": [
    "from keras import models\n",
    "from keras import layers\n",
    "\n",
    "def build_model():\n",
    "    model = models.Sequential()\n",
    "    model.add(layers.Dense(64, activation='relu',input_shape=(train_data.shape[1],)))\n",
    "    model.add(layers.Dense(64, activation='relu'))\n",
    "    model.add(layers.Dense(1))\n",
    "    model.compile(optimizer='rmsprop', loss='mse', metrics=['mae', pearson_r])\n",
    "    return model"
   ]
  },
  {
   "cell_type": "code",
   "execution_count": 44,
   "id": "514cad72",
   "metadata": {},
   "outputs": [],
   "source": [
    "import numpy as np\n",
    "k = 4\n",
    "num_val_samples = len(train_data) // k\n",
    "num_epochs = 100\n",
    "all_scores = []"
   ]
  },
  {
   "cell_type": "code",
   "execution_count": 47,
   "id": "7ea128a7",
   "metadata": {},
   "outputs": [
    {
     "name": "stdout",
     "output_type": "stream",
     "text": [
      "processing fold # 0\n",
      "processing fold # 1\n",
      "processing fold # 2\n",
      "processing fold # 3\n"
     ]
    }
   ],
   "source": [
    "for i in range(k):\n",
    "    print('processing fold #', i)\n",
    "    val_data = train_data[i * num_val_samples: (i + 1) * num_val_samples]\n",
    "    val_targets = train_label[i * num_val_samples: (i + 1) * num_val_samples]\n",
    "    partial_train_data = np.concatenate([train_data[:i * num_val_samples],train_data[(i + 1) * num_val_samples:]],axis=0)\n",
    "    partial_train_targets = np.concatenate([train_label[:i * num_val_samples],train_label[(i + 1) * num_val_samples:]],axis=0)\n",
    "    model = build_model()\n",
    "    model.fit(partial_train_data, partial_train_targets,epochs=num_epochs, batch_size=1, verbose=0)\n",
    "    val_mse, val_mae,p = model.evaluate(val_data, val_targets, verbose=0)\n",
    "    all_scores.append(val_mae)"
   ]
  },
  {
   "cell_type": "code",
   "execution_count": 48,
   "id": "eba7ee1a",
   "metadata": {},
   "outputs": [
    {
     "data": {
      "text/plain": [
       "(690, 172)"
      ]
     },
     "execution_count": 48,
     "metadata": {},
     "output_type": "execute_result"
    }
   ],
   "source": [
    "len(train_data), num_val_samples"
   ]
  },
  {
   "cell_type": "code",
   "execution_count": 49,
   "id": "af8c9463",
   "metadata": {},
   "outputs": [
    {
     "data": {
      "text/plain": [
       "[0.9601241946220398,\n",
       " 2.4160633087158203,\n",
       " 0.7550127506256104,\n",
       " 1.0191755294799805]"
      ]
     },
     "execution_count": 49,
     "metadata": {},
     "output_type": "execute_result"
    }
   ],
   "source": [
    "all_scores"
   ]
  },
  {
   "cell_type": "code",
   "execution_count": 50,
   "id": "4a82d6bd",
   "metadata": {},
   "outputs": [
    {
     "data": {
      "text/plain": [
       "1.2875939458608627"
      ]
     },
     "execution_count": 50,
     "metadata": {},
     "output_type": "execute_result"
    }
   ],
   "source": [
    "np.mean(all_scores) ##########################################################"
   ]
  },
  {
   "cell_type": "code",
   "execution_count": null,
   "id": "39279e69",
   "metadata": {},
   "outputs": [],
   "source": []
  },
  {
   "cell_type": "code",
   "execution_count": null,
   "id": "eb364e7f",
   "metadata": {},
   "outputs": [],
   "source": []
  },
  {
   "cell_type": "code",
   "execution_count": null,
   "id": "2db26871",
   "metadata": {},
   "outputs": [],
   "source": []
  },
  {
   "cell_type": "code",
   "execution_count": null,
   "id": "35cac9a0",
   "metadata": {},
   "outputs": [],
   "source": []
  },
  {
   "cell_type": "markdown",
   "id": "78a6636d",
   "metadata": {},
   "source": [
    "Saving the validation logs at each fold"
   ]
  },
  {
   "cell_type": "code",
   "execution_count": 51,
   "id": "a4931347",
   "metadata": {},
   "outputs": [
    {
     "name": "stdout",
     "output_type": "stream",
     "text": [
      "processing fold # 0\n",
      "processing fold # 1\n",
      "processing fold # 2\n",
      "processing fold # 3\n"
     ]
    }
   ],
   "source": [
    "num_epochs = 100\n",
    "all_mae_histories = []\n",
    "for i in range(k):\n",
    "    print('processing fold #', i)\n",
    "    val_data = train_data[i * num_val_samples: (i + 1) * num_val_samples]\n",
    "    val_targets = train_label[i * num_val_samples: (i + 1) * num_val_samples]\n",
    "    partial_train_data = np.concatenate([train_data[:i * num_val_samples],train_data[(i + 1) * num_val_samples:]],axis=0)\n",
    "    partial_train_targets = np.concatenate([train_label[:i * num_val_samples],train_label[(i + 1) * num_val_samples:]],axis=0)\n",
    "    model = build_model()\n",
    "    history = model.fit(partial_train_data, partial_train_targets,validation_data=(val_data, val_targets),epochs=num_epochs, batch_size=1, verbose=0)\n",
    "    mae_history = history.history['val_mae']\n",
    "    all_mae_histories.append(mae_history)"
   ]
  },
  {
   "cell_type": "code",
   "execution_count": 52,
   "id": "c14b0cb0",
   "metadata": {},
   "outputs": [
    {
     "data": {
      "text/plain": [
       "[[1.9385877847671509,\n",
       "  1.5089102983474731,\n",
       "  1.284586787223816,\n",
       "  1.2770378589630127,\n",
       "  1.0991507768630981,\n",
       "  1.009658694267273,\n",
       "  1.1312721967697144,\n",
       "  1.0194429159164429,\n",
       "  1.0196560621261597,\n",
       "  1.0047025680541992,\n",
       "  0.9735046029090881,\n",
       "  0.8699319362640381,\n",
       "  0.9386049509048462,\n",
       "  0.9881017804145813,\n",
       "  0.9145037531852722,\n",
       "  1.005873203277588,\n",
       "  0.9887931942939758,\n",
       "  0.9417353868484497,\n",
       "  0.9224090576171875,\n",
       "  0.9209405779838562,\n",
       "  0.9417577385902405,\n",
       "  0.9307143688201904,\n",
       "  0.8778092861175537,\n",
       "  0.8665754795074463,\n",
       "  0.850735604763031,\n",
       "  0.9393609762191772,\n",
       "  0.9138196706771851,\n",
       "  0.9197643995285034,\n",
       "  0.933696985244751,\n",
       "  0.9329323172569275,\n",
       "  1.0065631866455078,\n",
       "  1.0118474960327148,\n",
       "  0.9436065554618835,\n",
       "  1.019998550415039,\n",
       "  0.9516621828079224,\n",
       "  0.9607820510864258,\n",
       "  0.8734196424484253,\n",
       "  0.9660779237747192,\n",
       "  0.92940354347229,\n",
       "  1.0226675271987915,\n",
       "  1.0499608516693115,\n",
       "  0.9142744541168213,\n",
       "  0.9455512166023254,\n",
       "  0.9814097285270691,\n",
       "  0.8773354887962341,\n",
       "  0.8874369859695435,\n",
       "  1.2412596940994263,\n",
       "  0.9584478139877319,\n",
       "  1.0299129486083984,\n",
       "  0.9147925972938538,\n",
       "  0.9380509257316589,\n",
       "  0.9732958078384399,\n",
       "  0.9417170882225037,\n",
       "  1.0179774761199951,\n",
       "  0.9293972253799438,\n",
       "  0.9144561290740967,\n",
       "  0.8904730081558228,\n",
       "  1.1459581851959229,\n",
       "  0.9353407025337219,\n",
       "  0.9529306292533875,\n",
       "  0.9340538382530212,\n",
       "  0.8804162740707397,\n",
       "  0.9047226309776306,\n",
       "  0.9510176777839661,\n",
       "  0.8978676199913025,\n",
       "  0.9396232962608337,\n",
       "  0.9791378378868103,\n",
       "  0.9762738943099976,\n",
       "  0.9421009421348572,\n",
       "  0.8942741751670837,\n",
       "  0.9443153738975525,\n",
       "  0.9041168689727783,\n",
       "  1.043258547782898,\n",
       "  1.0297266244888306,\n",
       "  1.0142713785171509,\n",
       "  1.00513756275177,\n",
       "  0.9335004091262817,\n",
       "  1.1130037307739258,\n",
       "  1.0574218034744263,\n",
       "  1.1423462629318237,\n",
       "  1.121596097946167,\n",
       "  0.9258677363395691,\n",
       "  0.9771857261657715,\n",
       "  0.925415575504303,\n",
       "  0.921333909034729,\n",
       "  1.3701328039169312,\n",
       "  1.1068854331970215,\n",
       "  0.9233837723731995,\n",
       "  0.9510043859481812,\n",
       "  1.095389485359192,\n",
       "  1.0683410167694092,\n",
       "  1.0046589374542236,\n",
       "  0.9712001085281372,\n",
       "  1.031845211982727,\n",
       "  1.017664909362793,\n",
       "  1.0304244756698608,\n",
       "  1.0068912506103516,\n",
       "  0.9609371423721313,\n",
       "  1.0319091081619263,\n",
       "  1.1382044553756714],\n",
       " [4.378281593322754,\n",
       "  3.2518460750579834,\n",
       "  2.981208562850952,\n",
       "  2.6136159896850586,\n",
       "  2.542506456375122,\n",
       "  2.48325777053833,\n",
       "  2.6776044368743896,\n",
       "  2.411564826965332,\n",
       "  2.7970550060272217,\n",
       "  2.36836576461792,\n",
       "  2.500406265258789,\n",
       "  2.322878360748291,\n",
       "  2.4340980052948,\n",
       "  2.301353693008423,\n",
       "  2.304973602294922,\n",
       "  2.3674283027648926,\n",
       "  2.296008825302124,\n",
       "  2.313852548599243,\n",
       "  2.3002843856811523,\n",
       "  2.439849853515625,\n",
       "  2.302429437637329,\n",
       "  2.2702226638793945,\n",
       "  2.505237340927124,\n",
       "  2.3123693466186523,\n",
       "  2.2916953563690186,\n",
       "  2.302452802658081,\n",
       "  2.409008026123047,\n",
       "  2.3186490535736084,\n",
       "  2.353975534439087,\n",
       "  2.2812540531158447,\n",
       "  2.4461302757263184,\n",
       "  2.2971889972686768,\n",
       "  2.215332508087158,\n",
       "  2.2304859161376953,\n",
       "  2.2578744888305664,\n",
       "  2.2536144256591797,\n",
       "  2.4531331062316895,\n",
       "  2.2835748195648193,\n",
       "  2.3253252506256104,\n",
       "  2.313443183898926,\n",
       "  2.3464887142181396,\n",
       "  2.243629217147827,\n",
       "  2.3151113986968994,\n",
       "  2.3664512634277344,\n",
       "  2.238457441329956,\n",
       "  2.248063564300537,\n",
       "  2.2765166759490967,\n",
       "  2.2473607063293457,\n",
       "  2.3190712928771973,\n",
       "  2.238987922668457,\n",
       "  2.2481160163879395,\n",
       "  2.5466156005859375,\n",
       "  2.2014524936676025,\n",
       "  2.217898368835449,\n",
       "  2.548419952392578,\n",
       "  2.4198763370513916,\n",
       "  2.3398351669311523,\n",
       "  2.365030527114868,\n",
       "  2.3002259731292725,\n",
       "  2.2913968563079834,\n",
       "  2.2973246574401855,\n",
       "  2.268221139907837,\n",
       "  2.312645196914673,\n",
       "  2.3147337436676025,\n",
       "  2.2486376762390137,\n",
       "  2.2386460304260254,\n",
       "  2.366560459136963,\n",
       "  2.323570489883423,\n",
       "  2.299701690673828,\n",
       "  2.2493131160736084,\n",
       "  2.3529367446899414,\n",
       "  2.244777202606201,\n",
       "  2.4346189498901367,\n",
       "  2.334998846054077,\n",
       "  2.304295063018799,\n",
       "  2.375044584274292,\n",
       "  2.297316312789917,\n",
       "  2.2997353076934814,\n",
       "  2.3377432823181152,\n",
       "  2.5683419704437256,\n",
       "  2.305152654647827,\n",
       "  2.2758748531341553,\n",
       "  2.3038673400878906,\n",
       "  2.2953567504882812,\n",
       "  2.2825911045074463,\n",
       "  2.315678358078003,\n",
       "  2.2216107845306396,\n",
       "  2.305086374282837,\n",
       "  2.2815568447113037,\n",
       "  2.2813892364501953,\n",
       "  2.340916633605957,\n",
       "  2.2528090476989746,\n",
       "  2.3624305725097656,\n",
       "  2.261348009109497,\n",
       "  2.4425158500671387,\n",
       "  2.3428750038146973,\n",
       "  2.2716195583343506,\n",
       "  2.319251537322998,\n",
       "  2.3654067516326904,\n",
       "  2.4216318130493164],\n",
       " [1.6603741645812988,\n",
       "  1.0412698984146118,\n",
       "  1.0629572868347168,\n",
       "  0.8655844330787659,\n",
       "  0.8191577792167664,\n",
       "  0.655706524848938,\n",
       "  0.7566980719566345,\n",
       "  0.6090637445449829,\n",
       "  0.7266879081726074,\n",
       "  0.7551720142364502,\n",
       "  0.6024290323257446,\n",
       "  0.6415043473243713,\n",
       "  0.6720795035362244,\n",
       "  0.6477266550064087,\n",
       "  0.7782970666885376,\n",
       "  0.6725167036056519,\n",
       "  0.7794045805931091,\n",
       "  0.6579753756523132,\n",
       "  0.6196630597114563,\n",
       "  0.7211245894432068,\n",
       "  0.7690335512161255,\n",
       "  0.6513959169387817,\n",
       "  0.6850539445877075,\n",
       "  0.6186635494232178,\n",
       "  0.605524480342865,\n",
       "  0.6302027702331543,\n",
       "  0.7754836678504944,\n",
       "  0.9007564783096313,\n",
       "  0.8876522183418274,\n",
       "  0.6343408823013306,\n",
       "  0.6290507316589355,\n",
       "  0.6122195720672607,\n",
       "  0.7713261842727661,\n",
       "  0.7795490622520447,\n",
       "  0.6348456144332886,\n",
       "  0.7640132308006287,\n",
       "  0.6129776239395142,\n",
       "  0.6694126129150391,\n",
       "  0.6724479794502258,\n",
       "  0.7090573906898499,\n",
       "  0.8017106056213379,\n",
       "  0.6965048313140869,\n",
       "  0.6088637709617615,\n",
       "  0.6109929084777832,\n",
       "  0.677734375,\n",
       "  0.753299355506897,\n",
       "  0.792269229888916,\n",
       "  0.7372975945472717,\n",
       "  0.7520043253898621,\n",
       "  0.7100418210029602,\n",
       "  0.6832593083381653,\n",
       "  0.7937026023864746,\n",
       "  0.6964535117149353,\n",
       "  0.733585774898529,\n",
       "  0.7016212344169617,\n",
       "  1.1260364055633545,\n",
       "  0.661896288394928,\n",
       "  0.7957253456115723,\n",
       "  0.7697051167488098,\n",
       "  0.8126367926597595,\n",
       "  0.6676982641220093,\n",
       "  0.6712074875831604,\n",
       "  0.7331649661064148,\n",
       "  0.7805262804031372,\n",
       "  1.015256404876709,\n",
       "  0.6941774487495422,\n",
       "  0.8289832472801208,\n",
       "  0.7561790943145752,\n",
       "  0.650830090045929,\n",
       "  0.7590295672416687,\n",
       "  0.6575316786766052,\n",
       "  0.6472426056861877,\n",
       "  0.7169826626777649,\n",
       "  0.7645391225814819,\n",
       "  0.6460506319999695,\n",
       "  0.7943046689033508,\n",
       "  0.7637096047401428,\n",
       "  0.888695478439331,\n",
       "  0.7006559371948242,\n",
       "  0.8257896900177002,\n",
       "  0.9442533254623413,\n",
       "  0.7094434499740601,\n",
       "  0.8133063316345215,\n",
       "  0.7251041531562805,\n",
       "  0.6813522577285767,\n",
       "  0.735573947429657,\n",
       "  0.7242373824119568,\n",
       "  0.9920352697372437,\n",
       "  0.803616464138031,\n",
       "  0.6715995073318481,\n",
       "  0.7659657597541809,\n",
       "  0.8533605337142944,\n",
       "  0.8370557427406311,\n",
       "  0.7073847651481628,\n",
       "  0.7299878001213074,\n",
       "  0.9952901601791382,\n",
       "  0.7119513750076294,\n",
       "  0.6819664835929871,\n",
       "  0.8427652716636658,\n",
       "  0.7269725203514099],\n",
       " [1.8812578916549683,\n",
       "  1.269536018371582,\n",
       "  1.159267544746399,\n",
       "  1.002803921699524,\n",
       "  0.9313414692878723,\n",
       "  0.9787194132804871,\n",
       "  0.702217161655426,\n",
       "  0.7186763286590576,\n",
       "  0.7873624563217163,\n",
       "  1.0863900184631348,\n",
       "  0.7902274131774902,\n",
       "  0.9413170218467712,\n",
       "  0.9108341336250305,\n",
       "  1.005315899848938,\n",
       "  0.857787013053894,\n",
       "  0.8550263047218323,\n",
       "  0.9345160126686096,\n",
       "  0.7685277462005615,\n",
       "  0.8486457467079163,\n",
       "  0.7903454899787903,\n",
       "  0.8948978781700134,\n",
       "  0.8048526644706726,\n",
       "  0.7652771472930908,\n",
       "  0.7507529854774475,\n",
       "  0.8376067280769348,\n",
       "  0.733722448348999,\n",
       "  0.7941164374351501,\n",
       "  0.8880347609519958,\n",
       "  0.7578847408294678,\n",
       "  0.7297853231430054,\n",
       "  0.9592878818511963,\n",
       "  0.8084281086921692,\n",
       "  0.7675631046295166,\n",
       "  0.8139904737472534,\n",
       "  0.9302168488502502,\n",
       "  0.8738452196121216,\n",
       "  0.942777156829834,\n",
       "  1.108812689781189,\n",
       "  0.7854765057563782,\n",
       "  0.7807401418685913,\n",
       "  0.7308042049407959,\n",
       "  0.7143413424491882,\n",
       "  0.8333911299705505,\n",
       "  0.8184738755226135,\n",
       "  0.9963578581809998,\n",
       "  0.9253345727920532,\n",
       "  0.8360752463340759,\n",
       "  0.787347674369812,\n",
       "  0.7437105178833008,\n",
       "  1.3036843538284302,\n",
       "  0.7672920823097229,\n",
       "  1.0553377866744995,\n",
       "  0.7834892868995667,\n",
       "  0.7521840333938599,\n",
       "  0.8983635902404785,\n",
       "  1.0295356512069702,\n",
       "  0.8314170837402344,\n",
       "  0.8272125124931335,\n",
       "  0.9611806869506836,\n",
       "  0.8595938682556152,\n",
       "  0.8941757082939148,\n",
       "  0.7824494242668152,\n",
       "  0.8349901437759399,\n",
       "  0.6974166035652161,\n",
       "  1.0185441970825195,\n",
       "  0.8229393362998962,\n",
       "  0.8868702054023743,\n",
       "  0.9615175724029541,\n",
       "  0.801231324672699,\n",
       "  0.890534520149231,\n",
       "  0.7553369998931885,\n",
       "  0.7559278011322021,\n",
       "  0.9818849563598633,\n",
       "  0.9092033505439758,\n",
       "  0.9535449743270874,\n",
       "  0.9378211498260498,\n",
       "  0.8072097897529602,\n",
       "  0.9370622634887695,\n",
       "  1.0069236755371094,\n",
       "  0.9972167611122131,\n",
       "  0.8298460245132446,\n",
       "  0.8717570900917053,\n",
       "  0.7814470529556274,\n",
       "  0.7919131517410278,\n",
       "  0.9131602048873901,\n",
       "  0.9666014313697815,\n",
       "  0.7478722929954529,\n",
       "  0.8051453232765198,\n",
       "  0.9886939525604248,\n",
       "  0.9467086791992188,\n",
       "  0.9457476139068604,\n",
       "  0.9322556853294373,\n",
       "  0.9340658783912659,\n",
       "  0.8040922284126282,\n",
       "  0.9500866532325745,\n",
       "  0.856131911277771,\n",
       "  0.8329139351844788,\n",
       "  1.0198538303375244,\n",
       "  0.9517636895179749,\n",
       "  0.8018237948417664]]"
      ]
     },
     "execution_count": 52,
     "metadata": {},
     "output_type": "execute_result"
    }
   ],
   "source": [
    "all_mae_histories"
   ]
  },
  {
   "cell_type": "code",
   "execution_count": 53,
   "id": "a3cc0365",
   "metadata": {},
   "outputs": [
    {
     "data": {
      "text/plain": [
       "[2.464625358581543,\n",
       " 1.7678905725479126,\n",
       " 1.622005045413971,\n",
       " 1.4397605508565903,\n",
       " 1.3480391204357147,\n",
       " 1.281835600733757,\n",
       " 1.3169479668140411,\n",
       " 1.1896869540214539,\n",
       " 1.3326903581619263,\n",
       " 1.303657591342926,\n",
       " 1.216641828417778,\n",
       " 1.193907916545868,\n",
       " 1.2389041483402252,\n",
       " 1.2356245070695877,\n",
       " 1.2138903588056564,\n",
       " 1.2252111285924911,\n",
       " 1.2496806532144547,\n",
       " 1.170522764325142,\n",
       " 1.172750562429428,\n",
       " 1.2180651277303696,\n",
       " 1.2270296514034271,\n",
       " 1.1642964035272598,\n",
       " 1.208344429731369,\n",
       " 1.137090340256691,\n",
       " 1.1463905423879623,\n",
       " 1.151434749364853,\n",
       " 1.2231069505214691,\n",
       " 1.2568011730909348,\n",
       " 1.2333023697137833,\n",
       " 1.144578143954277,\n",
       " 1.2602580189704895,\n",
       " 1.1824210435152054,\n",
       " 1.1744570881128311,\n",
       " 1.2110060006380081,\n",
       " 1.193649783730507,\n",
       " 1.213063731789589,\n",
       " 1.2205768823623657,\n",
       " 1.2569695115089417,\n",
       " 1.178163319826126,\n",
       " 1.2064770609140396,\n",
       " 1.2322410941123962,\n",
       " 1.142187461256981,\n",
       " 1.1757293790578842,\n",
       " 1.1943319439888,\n",
       " 1.1974712908267975,\n",
       " 1.2035336196422577,\n",
       " 1.2865302115678787,\n",
       " 1.1826134473085403,\n",
       " 1.2111747711896896,\n",
       " 1.2918766736984253,\n",
       " 1.1591795831918716,\n",
       " 1.342237949371338,\n",
       " 1.155778095126152,\n",
       " 1.1804114133119583,\n",
       " 1.2694505006074905,\n",
       " 1.3724761307239532,\n",
       " 1.1809053868055344,\n",
       " 1.2834816426038742,\n",
       " 1.241613119840622,\n",
       " 1.2291395366191864,\n",
       " 1.1983131170272827,\n",
       " 1.150573581457138,\n",
       " 1.1963807344436646,\n",
       " 1.1859235763549805,\n",
       " 1.2950764745473862,\n",
       " 1.1738465279340744,\n",
       " 1.265387937426567,\n",
       " 1.2543852627277374,\n",
       " 1.1734660118818283,\n",
       " 1.198287844657898,\n",
       " 1.177530199289322,\n",
       " 1.1380161195993423,\n",
       " 1.2941862791776657,\n",
       " 1.2596169859170914,\n",
       " 1.2295405119657516,\n",
       " 1.2780769914388657,\n",
       " 1.2004340291023254,\n",
       " 1.309624195098877,\n",
       " 1.2756861746311188,\n",
       " 1.3834236711263657,\n",
       " 1.300212025642395,\n",
       " 1.1957357823848724,\n",
       " 1.2189516127109528,\n",
       " 1.1844474077224731,\n",
       " 1.1996093690395355,\n",
       " 1.3469966351985931,\n",
       " 1.2001514732837677,\n",
       " 1.25641268491745,\n",
       " 1.2562179118394852,\n",
       " 1.2487717270851135,\n",
       " 1.2802427560091019,\n",
       " 1.2607710510492325,\n",
       " 1.27618807554245,\n",
       " 1.2011675536632538,\n",
       " 1.2850638031959534,\n",
       " 1.3061803877353668,\n",
       " 1.2058440297842026,\n",
       " 1.2455022484064102,\n",
       " 1.2979612052440643,\n",
       " 1.272158145904541]"
      ]
     },
     "execution_count": 53,
     "metadata": {},
     "output_type": "execute_result"
    }
   ],
   "source": [
    "average_mae_history = [np.mean([x[i] for x in all_mae_histories]) for i in range(num_epochs)]\n",
    "average_mae_history"
   ]
  },
  {
   "cell_type": "code",
   "execution_count": 54,
   "id": "1c494bf5",
   "metadata": {},
   "outputs": [
    {
     "data": {
      "image/png": "[encoded data removed]",
      "text/plain": [
       "<Figure size 432x288 with 1 Axes>"
      ]
     },
     "metadata": {
      "needs_background": "light"
     },
     "output_type": "display_data"
    }
   ],
   "source": [
    "plt.plot(range(1, len(average_mae_history) + 1), average_mae_history)\n",
    "plt.xlabel('Epochs')\n",
    "plt.ylabel('Validation MAE')\n",
    "plt.show()"
   ]
  },
  {
   "cell_type": "code",
   "execution_count": 55,
   "id": "548eee06",
   "metadata": {},
   "outputs": [
    {
     "data": {
      "image/png": "[encoded data removed]",
      "text/plain": [
       "<Figure size 432x288 with 1 Axes>"
      ]
     },
     "metadata": {
      "needs_background": "light"
     },
     "output_type": "display_data"
    }
   ],
   "source": [
    "def smooth_curve(points, factor=0.9):\n",
    "    smoothed_points = []\n",
    "    for point in points:\n",
    "        if smoothed_points:\n",
    "            previous = smoothed_points[-1]\n",
    "            smoothed_points.append(previous * factor + point * (1 - factor))\n",
    "        else:\n",
    "            smoothed_points.append(point)\n",
    "    return smoothed_points\n",
    "smooth_mae_history = smooth_curve(average_mae_history[10:])\n",
    "plt.plot(range(1, len(smooth_mae_history) + 1), smooth_mae_history)\n",
    "plt.xlabel('Epochs')\n",
    "plt.ylabel('Validation MAE')\n",
    "plt.show()"
   ]
  },
  {
   "cell_type": "markdown",
   "id": "ee4fb8be",
   "metadata": {},
   "source": [
    "its apparent that after 35 epochs, data starts to overfit."
   ]
  },
  {
   "cell_type": "code",
   "execution_count": null,
   "id": "9afe5de4",
   "metadata": {},
   "outputs": [],
   "source": [
    "\n"
   ]
  },
  {
   "cell_type": "code",
   "execution_count": null,
   "id": "a9ffdf52",
   "metadata": {},
   "outputs": [],
   "source": []
  },
  {
   "cell_type": "code",
   "execution_count": null,
   "id": "af32e61f",
   "metadata": {},
   "outputs": [],
   "source": []
  },
  {
   "cell_type": "code",
   "execution_count": null,
   "id": "cef68dd7",
   "metadata": {},
   "outputs": [],
   "source": []
  },
  {
   "cell_type": "code",
   "execution_count": null,
   "id": "232d9d40",
   "metadata": {},
   "outputs": [],
   "source": []
  },
  {
   "cell_type": "code",
   "execution_count": null,
   "id": "5faa9e58",
   "metadata": {},
   "outputs": [],
   "source": []
  },
  {
   "cell_type": "code",
   "execution_count": null,
   "id": "279fe7c2",
   "metadata": {},
   "outputs": [],
   "source": []
  },
  {
   "cell_type": "code",
   "execution_count": 213,
   "id": "8a13a8a9",
   "metadata": {},
   "outputs": [
    {
     "name": "stdout",
     "output_type": "stream",
     "text": [
      "Epoch 1/18\n",
      "44/44 [==============================] - 0s 1ms/step - loss: 46.2901 - mae: 4.5023 - pearson_r: 0.3162\n",
      "Epoch 2/18\n",
      "44/44 [==============================] - 0s 1ms/step - loss: 21.7163 - mae: 2.7539 - pearson_r: 0.4645\n",
      "Epoch 3/18\n",
      "44/44 [==============================] - 0s 1ms/step - loss: 14.2180 - mae: 2.3234 - pearson_r: 0.6384\n",
      "Epoch 4/18\n",
      "44/44 [==============================] - 0s 1ms/step - loss: 12.4119 - mae: 2.1401 - pearson_r: 0.7385\n",
      "Epoch 5/18\n",
      "44/44 [==============================] - 0s 1ms/step - loss: 11.1776 - mae: 1.9597 - pearson_r: 0.7567\n",
      "Epoch 6/18\n",
      "44/44 [==============================] - 0s 1ms/step - loss: 10.2955 - mae: 1.8436 - pearson_r: 0.7403\n",
      "Epoch 7/18\n",
      "44/44 [==============================] - 0s 1ms/step - loss: 9.5480 - mae: 1.7381 - pearson_r: 0.7712\n",
      "Epoch 8/18\n",
      "44/44 [==============================] - 0s 1ms/step - loss: 8.9806 - mae: 1.6587 - pearson_r: 0.8272\n",
      "Epoch 9/18\n",
      "44/44 [==============================] - 0s 1ms/step - loss: 8.4876 - mae: 1.5889 - pearson_r: 0.8614\n",
      "Epoch 10/18\n",
      "44/44 [==============================] - 0s 1ms/step - loss: 7.9832 - mae: 1.5124 - pearson_r: 0.8600\n",
      "Epoch 11/18\n",
      "44/44 [==============================] - 0s 1ms/step - loss: 7.7396 - mae: 1.4580 - pearson_r: 0.8678\n",
      "Epoch 12/18\n",
      "44/44 [==============================] - 0s 1ms/step - loss: 7.3684 - mae: 1.4071 - pearson_r: 0.8766\n",
      "Epoch 13/18\n",
      "44/44 [==============================] - 0s 1ms/step - loss: 7.2243 - mae: 1.3633 - pearson_r: 0.9041\n",
      "Epoch 14/18\n",
      "44/44 [==============================] - 0s 1ms/step - loss: 7.0594 - mae: 1.3526 - pearson_r: 0.8797\n",
      "Epoch 15/18\n",
      "44/44 [==============================] - 0s 1ms/step - loss: 6.7917 - mae: 1.3242 - pearson_r: 0.8984\n",
      "Epoch 16/18\n",
      "44/44 [==============================] - 0s 1ms/step - loss: 6.4523 - mae: 1.3111 - pearson_r: 0.9150\n",
      "Epoch 17/18\n",
      "44/44 [==============================] - 0s 1ms/step - loss: 6.4405 - mae: 1.2485 - pearson_r: 0.8582\n",
      "Epoch 18/18\n",
      "44/44 [==============================] - 0s 1ms/step - loss: 6.3611 - mae: 1.2340 - pearson_r: 0.9111\n"
     ]
    },
    {
     "data": {
      "text/plain": [
       "<keras.callbacks.History at 0x7fef74100700>"
      ]
     },
     "execution_count": 213,
     "metadata": {},
     "output_type": "execute_result"
    }
   ],
   "source": [
    "model = build_model()\n",
    "histoty=model.fit(train_data, train_label,epochs=18, batch_size=16,verbose=)"
   ]
  },
  {
   "cell_type": "code",
   "execution_count": null,
   "id": "bb827083",
   "metadata": {},
   "outputs": [],
   "source": []
  },
  {
   "cell_type": "code",
   "execution_count": 167,
   "id": "dbcac75a",
   "metadata": {},
   "outputs": [
    {
     "name": "stdout",
     "output_type": "stream",
     "text": [
      "8/8 [==============================] - 0s 1ms/step - loss: 3.7391 - mae: 1.0211 - pearson_r: 0.9055\n"
     ]
    }
   ],
   "source": [
    " test_mse_score, test_mae_score, pearson_r =model.evaluate(test_data, test_label)"
   ]
  },
  {
   "cell_type": "code",
   "execution_count": 168,
   "id": "55778327",
   "metadata": {},
   "outputs": [
    {
     "data": {
      "text/plain": [
       "1.0210896730422974"
      ]
     },
     "execution_count": 168,
     "metadata": {},
     "output_type": "execute_result"
    }
   ],
   "source": [
    "test_mae_score"
   ]
  },
  {
   "cell_type": "code",
   "execution_count": 59,
   "id": "4368415d",
   "metadata": {},
   "outputs": [],
   "source": [
    "A=model.predict(test_data)"
   ]
  },
  {
   "cell_type": "code",
   "execution_count": 64,
   "id": "adac0a17",
   "metadata": {},
   "outputs": [
    {
     "data": {
      "text/plain": [
       "<matplotlib.legend.Legend at 0x7fef326ce4f0>"
      ]
     },
     "execution_count": 64,
     "metadata": {},
     "output_type": "execute_result"
    },
    {
     "data": {
      "image/png": "[encoded data removed]",
      "text/plain": [
       "<Figure size 640x480 with 1 Axes>"
      ]
     },
     "metadata": {
      "needs_background": "light"
     },
     "output_type": "display_data"
    }
   ],
   "source": [
    "from matplotlib.pyplot import figure\n",
    "\n",
    "figure(figsize=(8,6), dpi=80)\n",
    "true_vals = np.array(train_label[:30])\n",
    "predicted = np.array(A[:30])\n",
    "X = range(1, len(predicted)+1)\n",
    "\n",
    "#dy = (np.random.rand(20)-0.5)*0.5\n",
    "\n",
    "\n",
    "plt.scatter(X, true_vals, color='green', label='True values')\n",
    "plt.scatter(X, predicted, color='red', label='Predicted values')\n",
    "\n",
    "plt.vlines(X,true_vals,predicted)#,predicted+dy)\n",
    "\n",
    "\n",
    "#differences = abs(true_vals-predicted)\n",
    "#differences = [round(i, 1) for i in differences]\n",
    "\n",
    "\n",
    "#for i, label in enumerate(differences):\n",
    "    #plt.annotate('Δ = {}'.format(label), (X[i]+0.20, predicted[i]+0.05))\n",
    "plt.title('Plot of differences b/w True and predicted values', fontsize=20, pad=20)\n",
    "plt.legend()"
   ]
  },
  {
   "cell_type": "code",
   "execution_count": null,
   "id": "9057b41a",
   "metadata": {},
   "outputs": [],
   "source": []
  }
 ],
 "metadata": {
  "kernelspec": {
   "display_name": "Python 3",
   "language": "python",
   "name": "python3"
  },
  "language_info": {
   "codemirror_mode": {
    "name": "ipython",
    "version": 3
   },
   "file_extension": ".py",
   "mimetype": "text/x-python",
   "name": "python",
   "nbconvert_exporter": "python",
   "pygments_lexer": "ipython3",
   "version": "3.8.8"
  }
 },
 "nbformat": 4,
 "nbformat_minor": 5
}
